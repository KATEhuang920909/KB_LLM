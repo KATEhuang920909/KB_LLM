{
 "cells": [
  {
   "cell_type": "code",
   "execution_count": 1,
   "id": "793c7985-1a24-425e-b59a-52ec1f95faab",
   "metadata": {
    "tags": []
   },
   "outputs": [],
   "source": [
    "# 抽取 实体-关系词二元组\n",
    "import json\n",
    "data=json.loads(open(\"result/es_top20_train.json\",encoding=\"utf8\").read())"
   ]
  },
  {
   "cell_type": "code",
   "execution_count": 2,
   "id": "6a8186b2-ea08-4f54-ab8a-e2f378b52a13",
   "metadata": {
    "tags": []
   },
   "outputs": [
    {
     "data": {
      "text/plain": [
       "{'id': 'TR002184',\n",
       " 'question': '哪本书是刘淼淼最喜欢的书？',\n",
       " 'attribute': ['刘淼淼 ||| 最喜欢的书 ||| 《心态》'],\n",
       " 'top20': [['198106', '刘淼淼 ||| 最喜欢的书 ||| 《心态》'],\n",
       "  ['198111', '刘淼淼 ||| 最喜欢的饮料 ||| VC100'],\n",
       "  ['198112', '刘淼淼 ||| 最喜欢的电影 ||| 《金刚》'],\n",
       "  ['198109', '刘淼淼 ||| 最喜欢的花种 ||| 百合'],\n",
       "  ['198110', '刘淼淼 ||| 最喜欢的季节 ||| 秋天'],\n",
       "  ['198115', '刘淼淼 ||| 最喜欢的曲风 ||| Rap Hip-Pop'],\n",
       "  ['198114', '刘淼淼 ||| 最喜欢的歌曲 ||| 将军令'],\n",
       "  ['198108', '刘淼淼 ||| 最喜欢的艺人 ||| 金城武'],\n",
       "  ['198113', '刘淼淼 ||| 最喜欢的导演 ||| 周星驰'],\n",
       "  ['198117', '刘淼淼 ||| 最喜欢的运动 ||| 篮球、极限'],\n",
       "  ['198118', '刘淼淼 ||| 最喜欢的城市 ||| 米兰、成都'],\n",
       "  ['198116', '刘淼淼 ||| 最喜欢的宠物 ||| 狗狗猫猫'],\n",
       "  ['198119', '刘淼淼 ||| 最喜欢的饰物 ||| 项链、耳钉'],\n",
       "  ['41032452', '刘淼 ||| 最喜欢的季节 ||| 春天'],\n",
       "  ['41032467', '刘淼 ||| 最喜欢的动物 ||| 小狗狗'],\n",
       "  ['41032464', '刘淼 ||| 喜欢的数字 ||| 8，22'],\n",
       "  ['41032451', '刘淼 ||| 喜欢的艺人 ||| 韩庚'],\n",
       "  ['41032453', '刘淼 ||| 最喜欢的零食 ||| 薯片，巧克力'],\n",
       "  ['41032461', '刘淼 ||| 最喜欢的事情 ||| 喜欢洗澡时候唱歌，喜欢逛超市。'],\n",
       "  ['17517362', '胜算(刘淼图书) ||| 作者 ||| 刘淼']]}"
      ]
     },
     "execution_count": 2,
     "metadata": {},
     "output_type": "execute_result"
    }
   ],
   "source": [
    "data[850]"
   ]
  },
  {
   "cell_type": "code",
   "execution_count": null,
   "id": "01d28932-05ed-4051-ae98-49b1dba69800",
   "metadata": {},
   "outputs": [],
   "source": [
    "def generate_prompt_QuerySummary(related_text, query: str, preprompt=\"\") -> str:\n",
    "    prompt_template = \"\"\"已知问题:\n",
    "        {question}，请提取问题的主宾二元组，格式：xx|||xx\"\"\"\n",
    "\n",
    "    prompt = preprompt + prompt_template.replace(\"{question}\", query).replace(\"{context}\", related_text)\n",
    "    return prompt"
   ]
  },
  {
   "cell_type": "code",
   "execution_count": null,
   "id": "794610f8-d190-4170-9be6-d07db54feb22",
   "metadata": {},
   "outputs": [],
   "source": [
    "data_=[]"
   ]
  },
  {
   "cell_type": "code",
   "execution_count": 7,
   "id": "d26ecf9d-ff07-4438-b43d-351a42f392bb",
   "metadata": {
    "tags": []
   },
   "outputs": [],
   "source": [
    "def generate_prompt_QA(related_text, query: str, preprompt=\"\") -> str:\n",
    "    prompt_template = \"\"\"基于以下已知信息，简洁和专业的来回答用户的问题。\n",
    "        如果无法从中得到答案，请说 \"根据已知信息无法回答该问题\" 或 \"没有提供足够的相关信息\"，不允许在答案中添加编造成分，答案请使用中文。\n",
    "        已知内容:\n",
    "        {context}\n",
    "        问题:\n",
    "        '{question}'\"\"\"\n",
    "\n",
    "    prompt = preprompt + prompt_template.replace(\"{question}\", query).replace(\"{context}\", related_text)\n",
    "    return prompt\n"
   ]
  },
  {
   "cell_type": "code",
   "execution_count": 11,
   "id": "00a609cb-a57c-41d3-b44a-1229a1bc8577",
   "metadata": {
    "tags": []
   },
   "outputs": [
    {
     "data": {
      "text/plain": [
       "'基于以下已知信息，简洁和专业的来回答用户的问题。\\n        如果无法从中得到答案，请说 \"根据已知信息无法回答该问题\" 或 \"没有提供足够的相关信息\"，不允许在答案中添加编造成分，答案请使用中文。\\n        已知内容:\\n        [[\\'10522982\\', \\'杰基·乔伊纳一克西 ||| 别名 ||| 杰基·乔伊纳一克西\\'], [\\'10522983\\', \\'杰基·乔伊纳一克西 ||| 中文名 ||| 杰基·乔伊纳·克西\\'], [\\'10522991\\', \\'杰基·乔伊纳一克西 ||| 个人最好成绩 ||| 女子七项全能7291分\\'], [\\'10522985\\', \\'杰基·乔伊纳一克西 ||| 国籍 ||| 美国\\'], [\\'17021087\\', \\'什么是最好的辩护？ ||| 别名 ||| 什么是最好的辩护？\\'], [\\'26960217\\', \\'什么是最好的辩护 ||| 别名 ||| 什么是最好的辩护\\'], [\\'6641493\\', \\'为什么不是最好的？ ||| 别名 ||| 为什么不是最好的？\\'], [\\'26960218\\', \\'什么是最好的辩护 ||| 书名 ||| 什么是最好的辩护\\'], [\\'10522984\\', \\'杰基·乔伊纳一克西 ||| 外文名 ||| JACKIEJOYNER－KERSEE\\'], [\\'10522986\\', \\'杰基·乔伊纳一克西 ||| 出生地 ||| 伊利诺伊州\\'], [\\'10522988\\', \\'杰基·乔伊纳一克西 ||| 运动项目 ||| 七项全能\\'], [\\'17021094\\', \\'什么是最好的辩护？ ||| ISBN ||| 9787503696992\\'], [\\'40046034\\', \\'乔伊纳·克西 ||| 别名 ||| 乔伊纳·克西\\'], [\\'8737134\\', \\'简单学在最短的时间内，以最小的付出获得你想要的 ||| 作者 ||| (美)马克.乔伊纳\\'], [\\'6641500\\', \\'为什么不是最好的？ ||| 统一书号 ||| 3017-212\\'], [\\'31341672\\', \\'怕什么，姐又不是什么好人 ||| 别名 ||| 怕什么，姐又不是什么好人\\'], [\\'9805336\\', \\'简单，就是最好的味道 ||| 别名 ||| 简单，就是最好的味道\\'], [\\'5015770\\', \\'一无所获 ||| 释义 ||| 一无：全无 所获：获得。什么东西都没有获得。\\'], [\\'15992433\\', \\'什么样的女人命运最好 ||| 书名 ||| 什么样的女人命运最好\\'], [\\'39553219\\', \\'《什么样的女人命运最好》 ||| 别名 ||| 《什么样的女人命运最好》\\']]\\n        问题:\\n        \\'什么是杰基·乔伊纳一克西获得的单人最好成就？\\''"
      ]
     },
     "execution_count": 11,
     "metadata": {},
     "output_type": "execute_result"
    }
   ],
   "source": [
    "# step\n",
    "i=3\n",
    "generate_prompt_QA(str(data[i][\"attribute\"]),data[i][\"question\"])"
   ]
  },
  {
   "cell_type": "code",
   "execution_count": null,
   "id": "666da48c-52fb-4724-a90f-b9e4e5219a3d",
   "metadata": {},
   "outputs": [],
   "source": []
  }
 ],
 "metadata": {
  "kernelspec": {
   "display_name": "Python 3 (ipykernel)",
   "language": "python",
   "name": "python3"
  },
  "language_info": {
   "codemirror_mode": {
    "name": "ipython",
    "version": 3
   },
   "file_extension": ".py",
   "mimetype": "text/x-python",
   "name": "python",
   "nbconvert_exporter": "python",
   "pygments_lexer": "ipython3",
   "version": "3.8.4"
  }
 },
 "nbformat": 4,
 "nbformat_minor": 5
}
