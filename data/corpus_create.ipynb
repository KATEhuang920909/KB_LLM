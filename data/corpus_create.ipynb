{
 "cells": [
  {
   "cell_type": "code",
   "execution_count": 1,
   "id": "793c7985-1a24-425e-b59a-52ec1f95faab",
   "metadata": {
    "tags": []
   },
   "outputs": [],
   "source": [
    "# 抽取 实体-关系词二元组\n",
    "import json\n",
    "data=json.loads(open(\"result/es_top20_train.json\",encoding=\"utf8\").read())"
   ]
  },
  {
   "cell_type": "code",
   "execution_count": 20,
   "id": "6a8186b2-ea08-4f54-ab8a-e2f378b52a13",
   "metadata": {
    "scrolled": true,
    "tags": []
   },
   "outputs": [
    {
     "data": {
      "text/plain": [
       "{'id': 'TR002941',\n",
       " 'question': '圆明园的开放时间是什么时候？',\n",
       " 'attribute': ['没有找到该问题对应的知识'],\n",
       " 'top20': [['5029130', '时间是什么 ||| 书名 ||| 时间是什么'],\n",
       "  ['5029129', '时间是什么 ||| 别名 ||| 时间是什么'],\n",
       "  ['5181735', '什么时候 ||| 别名 ||| 什么时候'],\n",
       "  ['12223520', '什么时候明朝初年 ||| 别名 ||| 什么时候明朝初年'],\n",
       "  ['5029136', '时间是什么 ||| 开本 ||| 32'],\n",
       "  ['12223521', '什么时候明朝初年 ||| 中文名 ||| 什么时候明朝初年'],\n",
       "  ['465265', '圆明园遗址公园 ||| 开放时间 ||| 1988年'],\n",
       "  ['16595056', '什么时候说什么话 ||| 别名 ||| 什么时候说什么话'],\n",
       "  ['16595061', '什么时候说什么话 ||| 出版时间 ||| 2008.6'],\n",
       "  ['5181736', '什么时候 ||| 中文名称 ||| 什么时候'],\n",
       "  ['8765481', '爱情从什么时候开始 ||| 别名 ||| 爱情从什么时候开始'],\n",
       "  ['17544776', '忘了什么时候说过不放手 ||| 别名 ||| 忘了什么时候说过不放手'],\n",
       "  ['28793305', '什么时候我们才学会放手 ||| 别名 ||| 什么时候我们才学会放手'],\n",
       "  ['8765482', '爱情从什么时候开始 ||| 中文名 ||| 爱情从什么时候开始'],\n",
       "  ['17544777', '忘了什么时候说过不放手 ||| 中文名 ||| 忘了什么时候说过不放手'],\n",
       "  ['28793306', '什么时候我们才学会放手 ||| 中文名 ||| 什么时候我们才学会放手'],\n",
       "  ['3372028', '都什么时候了 ||| 别名 ||| 都什么时候了'],\n",
       "  ['36489788', '什么时候吻她 ||| 别名 ||| 什么时候吻她'],\n",
       "  ['28113773', '开放人文·真科学：它是什么，它指什么 ||| 出版时间 ||| 2008-12-1'],\n",
       "  ['17631069', '丁玲公园 ||| 开放时间 ||| 全天候开放']]}"
      ]
     },
     "execution_count": 20,
     "metadata": {},
     "output_type": "execute_result"
    }
   ],
   "source": [
    "data[2]"
   ]
  },
  {
   "cell_type": "code",
   "execution_count": null,
   "id": "01d28932-05ed-4051-ae98-49b1dba69800",
   "metadata": {},
   "outputs": [],
   "source": [
    "def generate_prompt_QuerySummary(related_text, query: str, preprompt=\"\") -> str:\n",
    "    prompt_template = \"\"\"已知问题:\n",
    "        {question}，请提取问题的主宾二元组，格式：xx|||xx\"\"\"\n",
    "\n",
    "    prompt = preprompt + prompt_template.replace(\"{question}\", query).replace(\"{context}\", related_text)\n",
    "    return prompt"
   ]
  },
  {
   "cell_type": "code",
   "execution_count": 107,
   "id": "794610f8-d190-4170-9be6-d07db54feb22",
   "metadata": {},
   "outputs": [],
   "source": [
    "data_tuple=[]\n",
    "for unit in data:\n",
    "    if '没有找到该问题对应的知识' not in unit[\"attribute\"]:\n",
    "        # print(unit)\n",
    "        question = unit[\"question\"]\n",
    "        answer = \";\".join([\"|||\".join([t.strip() for t in k.split(\"|||\")[:2]]) for k in unit[\"attribute\"]])\n",
    "        data_tuple.append({\"question\":question,\"instruction\":\"\",\"answer\":answer,\"task_type\":\"tuple_extract\"})"
   ]
  },
  {
   "cell_type": "code",
   "execution_count": 24,
   "id": "ab8c0ba1-21cc-4bc1-bf1f-d9f05a625dd1",
   "metadata": {},
   "outputs": [
    {
     "data": {
      "text/plain": [
       "842"
      ]
     },
     "execution_count": 24,
     "metadata": {},
     "output_type": "execute_result"
    }
   ],
   "source": []
  },
  {
   "cell_type": "code",
   "execution_count": 25,
   "id": "ddd536de-8a24-4f22-be54-e3948f6d2717",
   "metadata": {},
   "outputs": [
    {
     "data": {
      "text/plain": [
       "('周穆王在位多少年？', '周穆王|||在位时间')"
      ]
     },
     "execution_count": 25,
     "metadata": {},
     "output_type": "execute_result"
    }
   ],
   "source": [
    "data_tuple[2]"
   ]
  },
  {
   "cell_type": "code",
   "execution_count": 96,
   "id": "d26ecf9d-ff07-4438-b43d-351a42f392bb",
   "metadata": {
    "tags": []
   },
   "outputs": [],
   "source": [
    "# 抽取表格信息\n",
    "def generate_prompt_QA(related_text, query: str, preprompt=\"\") -> str:\n",
    "    prompt_template = \"\"\"基于以下表格信息，来回答用户的问题。\n",
    "        如果无法从中得到答案，请说 \"没有找到该问题对应的知识\"，不允许在答案中添加编造成分，答案请使用中文。\n",
    "        已知内容:\n",
    "        {context}\n",
    "        问题:\n",
    "        '{question}'\"\"\"\n",
    "\n",
    "    prompt = preprompt + prompt_template.replace(\"{question}\", query).replace(\"{context}\", related_text)\n",
    "    return prompt\n"
   ]
  },
  {
   "cell_type": "code",
   "execution_count": 72,
   "id": "00a609cb-a57c-41d3-b44a-1229a1bc8577",
   "metadata": {
    "tags": []
   },
   "outputs": [
    {
     "data": {
      "text/plain": [
       "'基于以下已知信息，简洁和专业的来回答用户的问题。\\n        如果无法从中得到答案，请说 \"没有找到该问题对应的知识\"，不允许在答案中添加编造成分，答案请使用中文。\\n        已知内容:\\n        富人的世界是什么样 ||| 别名 ||| 富人的世界是什么样;我是一个什么样的人 ||| 别名 ||| 我是一个什么样的人;什么样的人做什么样的事 ||| 别名 ||| 什么样的人做什么样的事;什么样的人做什么样的事 ||| 书名 ||| 什么样的人做什么样的事;《什么样的人赚什么样的钱》 ||| 别名 ||| 《什么样的人赚什么样的钱》;《什么样的人赚什么样的钱》 ||| 中文名 ||| 《什么样的人赚什么样的钱》;富人的世界是什么样 ||| 中文名 ||| 富人的世界是什么样;我是一个什么样的人 ||| 中文名 ||| 我是一个什么样的人;什么样的人有什么样的经历 ||| 别名 ||| 什么样的人有什么样的经历;是什么样的感情 ||| 别名 ||| 是什么样的感情;什么样的人有什么样的经历 ||| 中文名 ||| 什么样的人有什么样的经历;娶什么样的女人，嫁什么样的男人 ||| 别名 ||| 娶什么样的女人，嫁什么样的男人;是什么样的感情 ||| 中文名 ||| 是什么样的感情;井上雄 ||| 人物类型 ||| 动漫人物;什么样的人能干，什么样的人不能干 ||| 别名 ||| 什么样的人能干，什么样的人不能干;你是什么样的父母 ||| 别名 ||| 你是什么样的父母;什么样的人生是值得追求的 ||| 别名 ||| 什么样的人生是值得追求的;你是什么类型的父母 ||| 别名 ||| 你是什么类型的父母;你是什么类型的父母 ||| 书名 ||| 你是什么类型的父母;金玉彬 ||| 是什么样的人 ||| 火\\n        问题:\\n        \\'井上雄是什么样的人物类型？\\''"
      ]
     },
     "execution_count": 72,
     "metadata": {},
     "output_type": "execute_result"
    }
   ],
   "source": [
    "# step\n",
    "i=16\n",
    "generate_prompt_QA(str(\";\".join([k[1] for k in data[i][\"top20\"]])),data[i][\"question\"])"
   ]
  },
  {
   "cell_type": "code",
   "execution_count": 73,
   "id": "aa46f5ce-d1f9-4a59-abfe-187d3f4059aa",
   "metadata": {},
   "outputs": [
    {
     "data": {
      "text/plain": [
       "{'井上雄 ||| 人物类型 ||| 动漫人物'}"
      ]
     },
     "execution_count": 73,
     "metadata": {},
     "output_type": "execute_result"
    }
   ],
   "source": [
    "top20 = [k[1] for k in data[i][\"top20\"]]\n",
    "set(top20)&set(data[i][\"attribute\"])"
   ]
  },
  {
   "cell_type": "code",
   "execution_count": 108,
   "id": "666da48c-52fb-4724-a90f-b9e4e5219a3d",
   "metadata": {},
   "outputs": [],
   "source": [
    "data_table_extraction=[]\n",
    "for unit in data:\n",
    "    top20 = [k[1] for k in unit[\"top20\"]]\n",
    "    if not set(top20)&set(unit[\"attribute\"]):\n",
    "        answer = \"没有找到该问题对应的知识\"\n",
    "    else:\n",
    "        answer = \";\".join(set(top20)&set(unit[\"attribute\"]))\n",
    "    data_table_extraction.append({\"question\":unit[\"question\"],\"instruction\":top20,\"answer\":answer,\"task_type\":\"table_extract\"})\n",
    "        "
   ]
  },
  {
   "cell_type": "code",
   "execution_count": 84,
   "id": "79b9e616-2cae-4a83-83a3-07bdefe7b90e",
   "metadata": {},
   "outputs": [],
   "source": [
    "sums=0\n",
    "for d in data_table_extraction:\n",
    "    if d[2]!=\"没有找到该问题对应的知识\":\n",
    "        sums+=1"
   ]
  },
  {
   "cell_type": "code",
   "execution_count": 85,
   "id": "b48e6e88-f0c8-456d-9716-f577ed1ee2cb",
   "metadata": {},
   "outputs": [
    {
     "data": {
      "text/plain": [
       "335"
      ]
     },
     "execution_count": 85,
     "metadata": {},
     "output_type": "execute_result"
    }
   ],
   "source": [
    "sums"
   ]
  },
  {
   "cell_type": "code",
   "execution_count": 109,
   "id": "aeb4ba18-fb64-4b90-ac95-7822a943cef0",
   "metadata": {},
   "outputs": [],
   "source": [
    "# 正样本构造\n",
    "import random\n",
    "\n",
    "data_table_extraction2=[]\n",
    "for unit in data:\n",
    "    top20 = [k[1] for k in unit[\"top20\"]]\n",
    "    if not set(top20)&set(unit[\"attribute\"]) and '没有找到该问题对应的知识' not in unit[\"attribute\"]:\n",
    "        answer = \";\".join(unit[\"attribute\"])\n",
    "        top20=(unit[\"attribute\"]+top20)[:20]\n",
    "        random.shuffle(top20)\n",
    "        data_table_extraction2.append({\"question\":unit[\"question\"],\"instruction\":top20,\"answer\":answer,\"task_type\":\"table_extract\"})"
   ]
  },
  {
   "cell_type": "code",
   "execution_count": 111,
   "id": "ccea0184-2d06-407e-8338-923fa887b4b8",
   "metadata": {
    "scrolled": true
   },
   "outputs": [],
   "source": [
    "data_sft=data_tuple+data_table_extraction+data_table_extraction2"
   ]
  },
  {
   "cell_type": "code",
   "execution_count": 114,
   "id": "7ef77ce9-1375-4599-bd29-2751c5237964",
   "metadata": {},
   "outputs": [],
   "source": [
    "random.shuffle(data_sft)"
   ]
  },
  {
   "cell_type": "code",
   "execution_count": 115,
   "id": "66f2a310-b997-470f-9d6b-47a12b7c64ec",
   "metadata": {},
   "outputs": [
    {
     "data": {
      "text/plain": [
       "{'question': '孙莉在哪一天完婚的？',\n",
       " 'instruction': ['走失在哪一个夏天 ||| 别名 ||| 走失在哪一个夏天',\n",
       "  '我的春天在哪里 ||| 别名 ||| 我的春天在哪里',\n",
       "  '天堂在哪? ||| 中文名 ||| 天堂在哪?',\n",
       "  '教育在哪里：一个校长的365天 ||| 别名 ||| 教育在哪里：一个校长的365天',\n",
       "  '我想结婚的时候你在哪 ||| 别名 ||| 我想结婚的时候你在哪',\n",
       "  '天的阳光在哪？ ||| 中文名 ||| 天的阳光在哪?',\n",
       "  '我的摩天轮，你在哪？ ||| 别名 ||| 我的摩天轮，你在哪？',\n",
       "  '我想结婚的时候你在哪 ||| 中文名 ||| 我想结婚的时候你在哪',\n",
       "  '天堂在哪? ||| 小说进度 ||| 已完结',\n",
       "  '我的春天在哪里 ||| 中文名 ||| 我的春天在哪里',\n",
       "  '完美的一天(孙燕姿演唱专辑) ||| 别名 ||| 完美的一天',\n",
       "  '教育在哪里：一个校长的365天 ||| 书名 ||| 教育在哪里：一个校长的365天',\n",
       "  '下一个天亮你在哪里 ||| 别名 ||| 下一个天亮你在哪里',\n",
       "  '天的阳光在哪？ ||| 别名 ||| 天的阳光在哪？',\n",
       "  '天堂在哪？ ||| 别名 ||| 天堂在哪？',\n",
       "  '孙莉 ||| 结婚纪念日 ||| 2004年3月8日',\n",
       "  '下一个天亮你在哪里 ||| 中文名 ||| 下一个天亮你在哪里',\n",
       "  '我想结婚的时候你在哪 ||| 中文名称 ||| 我想结婚的时候你在哪',\n",
       "  '天堂在哪? ||| 别名 ||| 天堂在哪?',\n",
       "  '走失在哪一个夏天 ||| 中文名 ||| 走失在哪一个夏天'],\n",
       " 'answer': '孙莉 ||| 结婚纪念日 ||| 2004年3月8日',\n",
       " 'task_type': 'table_extract'}"
      ]
     },
     "execution_count": 115,
     "metadata": {},
     "output_type": "execute_result"
    }
   ],
   "source": [
    "data_sft[0]"
   ]
  },
  {
   "cell_type": "code",
   "execution_count": 117,
   "id": "f691610d-5e19-4086-b09e-8062e1e66992",
   "metadata": {},
   "outputs": [],
   "source": [
    "with open(\"train_sft.json\",\"w\",encoding=\"utf8\" ) as f:\n",
    "    for unit in data_sft[:int(0.8*(len(data_sft)))]:\n",
    "        f.write(json.dumps(unit,ensure_ascii=False))\n",
    "        f.write(\"\\n\")\n",
    "\n",
    "with open(\"dev_sft.json\",\"w\",encoding=\"utf8\" ) as f:\n",
    "    for unit in data_sft[int(0.8*(len(data_sft))):]:\n",
    "        f.write(json.dumps(unit,ensure_ascii=False))\n",
    "        f.write(\"\\n\")"
   ]
  },
  {
   "cell_type": "code",
   "execution_count": null,
   "id": "9a213830-70e9-4db3-b6b3-eefe5caaf6d3",
   "metadata": {},
   "outputs": [],
   "source": []
  }
 ],
 "metadata": {
  "kernelspec": {
   "display_name": "Python 3 (ipykernel)",
   "language": "python",
   "name": "python3"
  },
  "language_info": {
   "codemirror_mode": {
    "name": "ipython",
    "version": 3
   },
   "file_extension": ".py",
   "mimetype": "text/x-python",
   "name": "python",
   "nbconvert_exporter": "python",
   "pygments_lexer": "ipython3",
   "version": "3.8.4"
  }
 },
 "nbformat": 4,
 "nbformat_minor": 5
}
