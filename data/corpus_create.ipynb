{
 "cells": [
  {
   "cell_type": "code",
   "execution_count": 2,
   "id": "793c7985-1a24-425e-b59a-52ec1f95faab",
   "metadata": {
    "tags": []
   },
   "outputs": [],
   "source": [
    "# 抽取 实体-关系词二元组\n",
    "import json\n",
    "data=json.loads(open(\"../result/es_top20_train.json\",encoding=\"utf8\").read())"
   ]
  },
  {
   "cell_type": "code",
   "execution_count": 20,
   "id": "6a8186b2-ea08-4f54-ab8a-e2f378b52a13",
   "metadata": {
    "collapsed": true,
    "jupyter": {
     "outputs_hidden": true
    },
    "scrolled": true,
    "tags": []
   },
   "outputs": [
    {
     "data": {
      "text/plain": [
       "{'id': 'TR002941',\n",
       " 'question': '圆明园的开放时间是什么时候？',\n",
       " 'attribute': ['没有找到该问题对应的知识'],\n",
       " 'top20': [['5029130', '时间是什么 ||| 书名 ||| 时间是什么'],\n",
       "  ['5029129', '时间是什么 ||| 别名 ||| 时间是什么'],\n",
       "  ['5181735', '什么时候 ||| 别名 ||| 什么时候'],\n",
       "  ['12223520', '什么时候明朝初年 ||| 别名 ||| 什么时候明朝初年'],\n",
       "  ['5029136', '时间是什么 ||| 开本 ||| 32'],\n",
       "  ['12223521', '什么时候明朝初年 ||| 中文名 ||| 什么时候明朝初年'],\n",
       "  ['465265', '圆明园遗址公园 ||| 开放时间 ||| 1988年'],\n",
       "  ['16595056', '什么时候说什么话 ||| 别名 ||| 什么时候说什么话'],\n",
       "  ['16595061', '什么时候说什么话 ||| 出版时间 ||| 2008.6'],\n",
       "  ['5181736', '什么时候 ||| 中文名称 ||| 什么时候'],\n",
       "  ['8765481', '爱情从什么时候开始 ||| 别名 ||| 爱情从什么时候开始'],\n",
       "  ['17544776', '忘了什么时候说过不放手 ||| 别名 ||| 忘了什么时候说过不放手'],\n",
       "  ['28793305', '什么时候我们才学会放手 ||| 别名 ||| 什么时候我们才学会放手'],\n",
       "  ['8765482', '爱情从什么时候开始 ||| 中文名 ||| 爱情从什么时候开始'],\n",
       "  ['17544777', '忘了什么时候说过不放手 ||| 中文名 ||| 忘了什么时候说过不放手'],\n",
       "  ['28793306', '什么时候我们才学会放手 ||| 中文名 ||| 什么时候我们才学会放手'],\n",
       "  ['3372028', '都什么时候了 ||| 别名 ||| 都什么时候了'],\n",
       "  ['36489788', '什么时候吻她 ||| 别名 ||| 什么时候吻她'],\n",
       "  ['28113773', '开放人文·真科学：它是什么，它指什么 ||| 出版时间 ||| 2008-12-1'],\n",
       "  ['17631069', '丁玲公园 ||| 开放时间 ||| 全天候开放']]}"
      ]
     },
     "execution_count": 20,
     "metadata": {},
     "output_type": "execute_result"
    }
   ],
   "source": [
    "data[2]"
   ]
  },
  {
   "cell_type": "code",
   "execution_count": 3,
   "id": "01d28932-05ed-4051-ae98-49b1dba69800",
   "metadata": {
    "tags": []
   },
   "outputs": [],
   "source": [
    "def generate_prompt_QuerySummary(related_text, query: str, preprompt=\"\") -> str:\n",
    "    prompt_template = \"\"\"已知问题:\n",
    "        {question}，请提取问题的摘要\"\"\"\n",
    "\n",
    "    prompt = preprompt + prompt_template.replace(\"{question}\", query).replace(\"{context}\", related_text)\n",
    "    return prompt"
   ]
  },
  {
   "cell_type": "code",
   "execution_count": 7,
   "id": "794610f8-d190-4170-9be6-d07db54feb22",
   "metadata": {
    "tags": []
   },
   "outputs": [],
   "source": [
    "data_tuple=[]\n",
    "for unit in data:\n",
    "    if '没有找到该问题对应的知识' not in unit[\"attribute\"]:\n",
    "        # print(unit)\n",
    "        question = unit[\"question\"]\n",
    "        answer = \";\".join([\"\".join([t.strip() for t in k.split(\"|||\")[:2]]) for k in unit[\"attribute\"]])\n",
    "        data_tuple.append({\"question\":question,\"instruction\":\"\",\"answer\":answer,\"task_type\":\"tuple_extract\"})"
   ]
  },
  {
   "cell_type": "code",
   "execution_count": 8,
   "id": "ab8c0ba1-21cc-4bc1-bf1f-d9f05a625dd1",
   "metadata": {
    "tags": []
   },
   "outputs": [
    {
     "data": {
      "text/plain": [
       "{'question': '我听说过唐岐山，他是中国人并且出生在河南开封。但是，我想了解有关他出生和去世的具体日期，还有他在‘文化大革命’中的罪行。',\n",
       " 'instruction': '',\n",
       " 'answer': '唐岐山出生年月;唐岐山去世年月;唐岐山其他信息',\n",
       " 'task_type': 'tuple_extract'}"
      ]
     },
     "execution_count": 8,
     "metadata": {},
     "output_type": "execute_result"
    }
   ],
   "source": [
    "data_tuple[0]"
   ]
  },
  {
   "cell_type": "code",
   "execution_count": 9,
   "id": "ddd536de-8a24-4f22-be54-e3948f6d2717",
   "metadata": {
    "tags": []
   },
   "outputs": [
    {
     "data": {
      "text/plain": [
       "{'question': '周穆王在位多少年？',\n",
       " 'instruction': '',\n",
       " 'answer': '周穆王在位时间',\n",
       " 'task_type': 'tuple_extract'}"
      ]
     },
     "execution_count": 9,
     "metadata": {},
     "output_type": "execute_result"
    }
   ],
   "source": [
    "data_tuple[2]"
   ]
  },
  {
   "cell_type": "code",
   "execution_count": 24,
   "id": "d26ecf9d-ff07-4438-b43d-351a42f392bb",
   "metadata": {
    "tags": []
   },
   "outputs": [],
   "source": [
    "# 抽取表格信息\n",
    "def generate_prompt_QA(related_text, query: str, preprompt=\"\") -> str:\n",
    "    prompt_template = \"\"\"问题:'{question}'，请从已知内容中抽取答案。如果无法从中得到答案，请说 \"没有找到该问题对应的知识\"。已知内容:{context}\n",
    "        \"\"\"\n",
    "\n",
    "    prompt = preprompt + prompt_template.replace(\"{question}\", query).replace(\"{context}\", related_text)\n",
    "    return prompt\n"
   ]
  },
  {
   "cell_type": "code",
   "execution_count": 25,
   "id": "00a609cb-a57c-41d3-b44a-1229a1bc8577",
   "metadata": {
    "tags": []
   },
   "outputs": [
    {
     "data": {
      "text/plain": [
       "'问题:\\'井上雄是什么样的人物类型？\\'，请从已知内容中抽取答案。如果无法从中得到答案，请说 \"没有找到该问题对应的知识\"。已知内容:富人的世界是什么样 ||| 别名 ||| 富人的世界是什么样;我是一个什么样的人 ||| 别名 ||| 我是一个什么样的人;什么样的人做什么样的事 ||| 别名 ||| 什么样的人做什么样的事;什么样的人做什么样的事 ||| 书名 ||| 什么样的人做什么样的事;《什么样的人赚什么样的钱》 ||| 别名 ||| 《什么样的人赚什么样的钱》;《什么样的人赚什么样的钱》 ||| 中文名 ||| 《什么样的人赚什么样的钱》;富人的世界是什么样 ||| 中文名 ||| 富人的世界是什么样;我是一个什么样的人 ||| 中文名 ||| 我是一个什么样的人;什么样的人有什么样的经历 ||| 别名 ||| 什么样的人有什么样的经历;是什么样的感情 ||| 别名 ||| 是什么样的感情;什么样的人有什么样的经历 ||| 中文名 ||| 什么样的人有什么样的经历;娶什么样的女人，嫁什么样的男人 ||| 别名 ||| 娶什么样的女人，嫁什么样的男人;是什么样的感情 ||| 中文名 ||| 是什么样的感情;井上雄 ||| 人物类型 ||| 动漫人物;什么样的人能干，什么样的人不能干 ||| 别名 ||| 什么样的人能干，什么样的人不能干;你是什么样的父母 ||| 别名 ||| 你是什么样的父母;什么样的人生是值得追求的 ||| 别名 ||| 什么样的人生是值得追求的;你是什么类型的父母 ||| 别名 ||| 你是什么类型的父母;你是什么类型的父母 ||| 书名 ||| 你是什么类型的父母;金玉彬 ||| 是什么样的人 ||| 火\\n        '"
      ]
     },
     "execution_count": 25,
     "metadata": {},
     "output_type": "execute_result"
    }
   ],
   "source": [
    "# step\n",
    "i=16\n",
    "generate_prompt_QA(str(\";\".join([k[1] for k in data[i][\"top20\"]])),data[i][\"question\"])"
   ]
  },
  {
   "cell_type": "code",
   "execution_count": 26,
   "id": "aa46f5ce-d1f9-4a59-abfe-187d3f4059aa",
   "metadata": {
    "tags": []
   },
   "outputs": [
    {
     "data": {
      "text/plain": [
       "{'井上雄 ||| 人物类型 ||| 动漫人物'}"
      ]
     },
     "execution_count": 26,
     "metadata": {},
     "output_type": "execute_result"
    }
   ],
   "source": [
    "top20 = [k[1] for k in data[i][\"top20\"]]\n",
    "set(top20)&set(data[i][\"attribute\"])"
   ]
  },
  {
   "cell_type": "code",
   "execution_count": 27,
   "id": "666da48c-52fb-4724-a90f-b9e4e5219a3d",
   "metadata": {
    "tags": []
   },
   "outputs": [],
   "source": [
    "data_table_extraction=[]\n",
    "for unit in data:\n",
    "    top20 = [k[1] for k in unit[\"top20\"]]\n",
    "    if not set(top20)&set(unit[\"attribute\"]):\n",
    "        answer = \"没有找到该问题对应的知识\"\n",
    "    else:\n",
    "        answer = \";\".join(set(top20)&set(unit[\"attribute\"]))\n",
    "    data_table_extraction.append({\"question\":unit[\"question\"],\"instruction\":top20,\"answer\":answer,\"task_type\":\"table_extract\"})\n",
    "        "
   ]
  },
  {
   "cell_type": "code",
   "execution_count": 28,
   "id": "448154a2-06de-4ad2-8b4e-b9665e3b890a",
   "metadata": {
    "tags": []
   },
   "outputs": [
    {
     "data": {
      "text/plain": [
       "{'question': '我听说过唐岐山，他是中国人并且出生在河南开封。但是，我想了解有关他出生和去世的具体日期，还有他在‘文化大革命’中的罪行。',\n",
       " 'instruction': ['他说我是他的 ||| 中文名 ||| 他说我是他的',\n",
       "  '他说我是他的 ||| 别名 ||| 他说我是他的',\n",
       "  '我的他不是他 ||| 中文名 ||| 我的他不是他',\n",
       "  '他，是我的 ||| 中文名 ||| 他,是我的',\n",
       "  '他是我的传说 ||| 中文名 ||| 他是我的传说',\n",
       "  '我爱的人有了他 ||| 中文名 ||| 我爱的人有了他',\n",
       "  '《爱我还是他》 ||| 中文名 ||| 《爱我还是他》',\n",
       "  '爱我还是他 ||| 中文名 ||| 《爱我还是他》',\n",
       "  '他说她是他的命 ||| 中文名 ||| 他说她是他的命',\n",
       "  '爱我还是他 ||| 中文名称 ||| 《爱我还是他》',\n",
       "  '你究竟爱的是他还是我 ||| 中文名 ||| 你究竟爱的是他还是我',\n",
       "  '心中想的还是他 ||| 别名 ||| 心中想的还是他',\n",
       "  '心中想的还是他 ||| 中文名称 ||| 心中想的还是他',\n",
       "  '他们的世界我只是过客 ||| 中文名 ||| 他们的世界我只是过客',\n",
       "  '我还想他 ||| 出生日期 ||| 1981年',\n",
       "  '谁是我的他 ||| 中文名 ||| 谁是我的他',\n",
       "  '他是我的狼 ||| 中文名 ||| 他是我的狼',\n",
       "  '你是我的他 ||| 中文名 ||| 你是我的他',\n",
       "  '我爱你还是他 ||| 中文名 ||| 我爱你还是他',\n",
       "  '你爱我还是他 ||| 中文名 ||| 你爱我还是他'],\n",
       " 'answer': '没有找到该问题对应的知识',\n",
       " 'task_type': 'table_extract'}"
      ]
     },
     "execution_count": 28,
     "metadata": {},
     "output_type": "execute_result"
    }
   ],
   "source": [
    "data_table_extraction[0]"
   ]
  },
  {
   "cell_type": "code",
   "execution_count": 20,
   "id": "79b9e616-2cae-4a83-83a3-07bdefe7b90e",
   "metadata": {
    "collapsed": true,
    "jupyter": {
     "outputs_hidden": true
    },
    "tags": []
   },
   "outputs": [
    {
     "ename": "KeyError",
     "evalue": "2",
     "output_type": "error",
     "traceback": [
      "\u001b[0;31m---------------------------------------------------------------------------\u001b[0m",
      "\u001b[0;31mKeyError\u001b[0m                                  Traceback (most recent call last)",
      "Cell \u001b[0;32mIn[20], line 3\u001b[0m\n\u001b[1;32m      1\u001b[0m sums\u001b[38;5;241m=\u001b[39m\u001b[38;5;241m0\u001b[39m\n\u001b[1;32m      2\u001b[0m \u001b[38;5;28;01mfor\u001b[39;00m d \u001b[38;5;129;01min\u001b[39;00m data_table_extraction:\n\u001b[0;32m----> 3\u001b[0m     \u001b[38;5;28;01mif\u001b[39;00m \u001b[43md\u001b[49m\u001b[43m[\u001b[49m\u001b[38;5;241;43m2\u001b[39;49m\u001b[43m]\u001b[49m\u001b[38;5;241m!=\u001b[39m\u001b[38;5;124m\"\u001b[39m\u001b[38;5;124m没有找到该问题对应的知识\u001b[39m\u001b[38;5;124m\"\u001b[39m:\n\u001b[1;32m      4\u001b[0m         sums\u001b[38;5;241m+\u001b[39m\u001b[38;5;241m=\u001b[39m\u001b[38;5;241m1\u001b[39m\n",
      "\u001b[0;31mKeyError\u001b[0m: 2"
     ]
    }
   ],
   "source": [
    "sums=0\n",
    "for d in data_table_extraction:\n",
    "    if d[2]!=\"没有找到该问题对应的知识\":\n",
    "        sums+=1"
   ]
  },
  {
   "cell_type": "code",
   "execution_count": 85,
   "id": "b48e6e88-f0c8-456d-9716-f577ed1ee2cb",
   "metadata": {},
   "outputs": [
    {
     "data": {
      "text/plain": [
       "335"
      ]
     },
     "execution_count": 85,
     "metadata": {},
     "output_type": "execute_result"
    }
   ],
   "source": [
    "sums"
   ]
  },
  {
   "cell_type": "code",
   "execution_count": 29,
   "id": "aeb4ba18-fb64-4b90-ac95-7822a943cef0",
   "metadata": {
    "tags": []
   },
   "outputs": [],
   "source": [
    "# 正样本构造\n",
    "import random\n",
    "\n",
    "data_table_extraction2=[]\n",
    "for unit in data:\n",
    "    top20 = [k[1] for k in unit[\"top20\"]]\n",
    "    if not set(top20)&set(unit[\"attribute\"]) and '没有找到该问题对应的知识' not in unit[\"attribute\"]:\n",
    "        answer = \";\".join(unit[\"attribute\"])\n",
    "        top20=(unit[\"attribute\"]+top20)[:20]\n",
    "        random.shuffle(top20)\n",
    "        data_table_extraction2.append({\"question\":unit[\"question\"],\"instruction\":top20,\"answer\":answer,\"task_type\":\"table_extract\"})"
   ]
  },
  {
   "cell_type": "code",
   "execution_count": 30,
   "id": "ccea0184-2d06-407e-8338-923fa887b4b8",
   "metadata": {
    "scrolled": true,
    "tags": []
   },
   "outputs": [],
   "source": [
    "data_sft=data_tuple+data_table_extraction+data_table_extraction2"
   ]
  },
  {
   "cell_type": "code",
   "execution_count": 31,
   "id": "7ef77ce9-1375-4599-bd29-2751c5237964",
   "metadata": {
    "tags": []
   },
   "outputs": [],
   "source": [
    "random.shuffle(data_sft)"
   ]
  },
  {
   "cell_type": "code",
   "execution_count": 48,
   "id": "66f2a310-b997-470f-9d6b-47a12b7c64ec",
   "metadata": {
    "tags": []
   },
   "outputs": [
    {
     "data": {
      "text/plain": [
       "{'question': '我对魔兽世界中的一位角色祖尔金有了一些了解，他是森林巨魔的族人，而且他有一定的等级，还有魔法技能。然而我对他的中文名和外文名还有点疑惑。并且他是以什么身份出场的也未知，你能给我提供更多关于他的信息吗？',\n",
       " 'instruction': ['祖尔金 ||| 中文名 ||| 祖尔',\n",
       "  '恶魔？不，他是我的王子 ||| 中文名 ||| 恶魔?不,他是我的王子',\n",
       "  '祖尔金 ||| 职业 ||| 狂暴猎头者',\n",
       "  '你究竟爱的是他还是我 ||| 别名 ||| 你究竟爱的是他还是我',\n",
       "  '关于他的你的和我的 ||| 中文名 ||| 关于他的你的和我的',\n",
       "  '他说我是他的 ||| 中文名 ||| 他说我是他的',\n",
       "  '祖尔金 ||| 出场作品 ||| 魔兽争霸2：黑潮魔兽世界',\n",
       "  '我的他不是他 ||| 中文名 ||| 我的他不是他',\n",
       "  '你是我的他 ||| 别名 ||| 你是我的他',\n",
       "  '我的第一次给了他 ||| 中文名 ||| 我的第一次给了他',\n",
       "  '我的第一次给了他 ||| 别名 ||| 我的第一次给了他',\n",
       "  '等军焰 ||| 其他信息 ||| 他的性格是一位有聪明而且责任感的大哥，但是一生气来可是很可怕的',\n",
       "  '你是我的他 ||| 中文名 ||| 你是我的他',\n",
       "  '为什么你爱的人是他不是我 ||| 中文名 ||| 为什么你爱的人是他不是我',\n",
       "  \"祖尔金 ||| 外文名 ||| Zul'Jin\",\n",
       "  '他，是我的 ||| 中文名 ||| 他,是我的',\n",
       "  '我爱的人有了他 ||| 中文名 ||| 我爱的人有了他',\n",
       "  '你究竟爱的是他还是我 ||| 中文名 ||| 你究竟爱的是他还是我',\n",
       "  '我爱的人有了他 ||| 别名 ||| 我爱的人有了他',\n",
       "  '祖尔金 ||| 别名 ||| 祖尔金'],\n",
       " 'answer': \"祖尔金 ||| 别名 ||| 祖尔金;祖尔金 ||| 中文名 ||| 祖尔;祖尔金 ||| 外文名 ||| Zul'Jin;祖尔金 ||| 职业 ||| 狂暴猎头者;祖尔金 ||| 出场作品 ||| 魔兽争霸2：黑潮魔兽世界\",\n",
       " 'task_type': 'table_extract'}"
      ]
     },
     "execution_count": 48,
     "metadata": {},
     "output_type": "execute_result"
    }
   ],
   "source": [
    "data_sft[19]"
   ]
  },
  {
   "cell_type": "code",
   "execution_count": 49,
   "id": "f691610d-5e19-4086-b09e-8062e1e66992",
   "metadata": {
    "tags": []
   },
   "outputs": [],
   "source": [
    "with open(\"train_sft.json\",\"w\",encoding=\"utf8\" ) as f:\n",
    "    for unit in data_sft[:int(0.8*(len(data_sft)))]:\n",
    "        f.write(json.dumps(unit,ensure_ascii=False))\n",
    "        f.write(\"\\n\")\n",
    "\n",
    "with open(\"dev_sft.json\",\"w\",encoding=\"utf8\" ) as f:\n",
    "    for unit in data_sft[int(0.8*(len(data_sft))):]:\n",
    "        f.write(json.dumps(unit,ensure_ascii=False))\n",
    "        f.write(\"\\n\")"
   ]
  },
  {
   "cell_type": "code",
   "execution_count": null,
   "id": "9a213830-70e9-4db3-b6b3-eefe5caaf6d3",
   "metadata": {},
   "outputs": [],
   "source": []
  }
 ],
 "metadata": {
  "kernelspec": {
   "display_name": "Python 3 (ipykernel)",
   "language": "python",
   "name": "python3"
  },
  "language_info": {
   "codemirror_mode": {
    "name": "ipython",
    "version": 3
   },
   "file_extension": ".py",
   "mimetype": "text/x-python",
   "name": "python",
   "nbconvert_exporter": "python",
   "pygments_lexer": "ipython3",
   "version": "3.8.10"
  }
 },
 "nbformat": 4,
 "nbformat_minor": 5
}
