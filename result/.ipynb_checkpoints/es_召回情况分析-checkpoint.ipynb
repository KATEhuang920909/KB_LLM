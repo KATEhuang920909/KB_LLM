{
 "cells": [
  {
   "cell_type": "code",
   "execution_count": 1,
   "id": "c6039c05",
   "metadata": {},
   "outputs": [],
   "source": [
    "# -*- coding: utf-8 -*-\n",
    "# @Time    : 2022/3/30 20:43\n",
    "# @Author  : huangkai\n",
    "# @File    : search_content.py\n",
    "\n",
    "\n",
    "import sys\n",
    "\n",
    "sys.path.append('../recall/nlp4es8/ir/')\n",
    "sys.path.append('../utils')\n",
    "\n",
    "from es_config import Config\n",
    "\n",
    "\n",
    "# from utils.logger_config import base_logger\n",
    "# from utils.args import FLAGS\n",
    "# from ir.index_hnsw import Index\n",
    "\n",
    "\n",
    "class Search(object):\n",
    "    def __init__(self, config, index_name):\n",
    "        # base_logger.info(\"Searching ...\")\n",
    "        self.config = config\n",
    "        self.es = self.config.es\n",
    "\n",
    "        self.index_name = index_name\n",
    "\n",
    "    def searchAnswer(self, question, ):\n",
    "        body = {\n",
    "            \"query\": {\n",
    "                \"multi_match\": {\n",
    "                    \"query\": question,\n",
    "                    \"fields\": [\"idx_document\"],  # 在question字段中匹配查询\n",
    "                    \"type\": \"most_fields\",\n",
    "                }\n",
    "            }\n",
    "        }\n",
    "\n",
    "        # es相关配置\n",
    "\n",
    "        res = self.es.search(index=self.index_name, body=body, request_timeout=30, size=self.config.top_n)\n",
    "\n",
    "        topn = res['hits']['hits']\n",
    "\n",
    "        result = []\n",
    "        for data in topn:\n",
    "            result.append(\n",
    "                (\n",
    "                    data['_source']['index'],\n",
    "                    data['_source']['idx_document'],\n",
    "                    data['_source']['ori_document']\n",
    "                )\n",
    "            )\n",
    "        return result\n"
   ]
  },
  {
   "cell_type": "code",
   "execution_count": 2,
   "id": "0ae40e46",
   "metadata": {},
   "outputs": [],
   "source": [
    "import pandas as pd\n",
    "import json\n",
    "\n",
    "index_file_content_config = Config()\n",
    "index_file_content_config.index_name = \"kbqa\"\n",
    "index_file_content_config.top_n=1\n",
    "search_name = Search(index_file_content_config, \"kbqa\")"
   ]
  },
  {
   "cell_type": "code",
   "execution_count": 3,
   "id": "fdcdfc14-6454-4ded-b43f-888ca4c69ecf",
   "metadata": {
    "tags": []
   },
   "outputs": [],
   "source": [
    "import json\n",
    "train_data = json.loads(open(\"es_top20_train.json\", encoding=\"utf8\").read())"
   ]
  },
  {
   "cell_type": "code",
   "execution_count": null,
   "id": "998084f6",
   "metadata": {},
   "outputs": [],
   "source": [
    "for unit in train_data:\n",
    "    unit"
   ]
  },
  {
   "cell_type": "code",
   "execution_count": 6,
   "id": "e14699bd-3025-4c8d-abd3-8290bd3f0fb8",
   "metadata": {
    "tags": []
   },
   "outputs": [
    {
     "data": {
      "text/plain": [
       "{'id': 'TR002576',\n",
       " 'question': '我听说过唐岐山，他是中国人并且出生在河南开封。但是，我想了解有关他出生和去世的具体日期，还有他在‘文化大革命’中的罪行。',\n",
       " 'attribute': ['唐岐山 ||| 出生年月 ||| 1931年1月',\n",
       "  '唐岐山 ||| 去世年月 ||| 1988年10月',\n",
       "  '唐岐山 ||| 其他信息 ||| 因“文化大革命”中犯有罪行，1979年12月被判处无期徒刑。'],\n",
       " 'top20': [['10747580', '他说我是他的 ||| 中文名 ||| 他说我是他的'],\n",
       "  ['10747579', '他说我是他的 ||| 别名 ||| 他说我是他的'],\n",
       "  ['19645962', '我的他不是他 ||| 中文名 ||| 我的他不是他'],\n",
       "  ['30134991', '他，是我的 ||| 中文名 ||| 他,是我的'],\n",
       "  ['29273106', '他是我的传说 ||| 中文名 ||| 他是我的传说'],\n",
       "  ['5016842', '我爱的人有了他 ||| 中文名 ||| 我爱的人有了他'],\n",
       "  ['40771054', '《爱我还是他》 ||| 中文名 ||| 《爱我还是他》'],\n",
       "  ['1651424', '爱我还是他 ||| 中文名 ||| 《爱我还是他》'],\n",
       "  ['27365521', '他说她是他的命 ||| 中文名 ||| 他说她是他的命'],\n",
       "  ['1651417', '爱我还是他 ||| 中文名称 ||| 《爱我还是他》'],\n",
       "  ['10872406', '你究竟爱的是他还是我 ||| 中文名 ||| 你究竟爱的是他还是我'],\n",
       "  ['18370355', '心中想的还是他 ||| 别名 ||| 心中想的还是他'],\n",
       "  ['18370356', '心中想的还是他 ||| 中文名称 ||| 心中想的还是他'],\n",
       "  ['24020127', '他们的世界我只是过客 ||| 中文名 ||| 他们的世界我只是过客'],\n",
       "  ['36836130', '我还想他 ||| 出生日期 ||| 1981年'],\n",
       "  ['6551479', '谁是我的他 ||| 中文名 ||| 谁是我的他'],\n",
       "  ['7734505', '他是我的狼 ||| 中文名 ||| 他是我的狼'],\n",
       "  ['9654495', '你是我的他 ||| 中文名 ||| 你是我的他'],\n",
       "  ['37738711', '我爱你还是他 ||| 中文名 ||| 我爱你还是他'],\n",
       "  ['21035265', '你爱我还是他 ||| 中文名 ||| 你爱我还是他']]}"
      ]
     },
     "execution_count": 6,
     "metadata": {},
     "output_type": "execute_result"
    }
   ],
   "source": [
    "train_data[0]"
   ]
  },
  {
   "cell_type": "code",
   "execution_count": 8,
   "id": "8ae06ae2-52f2-44c4-b72d-61d10f9093b8",
   "metadata": {
    "tags": []
   },
   "outputs": [],
   "source": [
    "err=0\n",
    "for unit in train_data:\n",
    "    for attr in unit[\"attribute\"]:\n",
    "        if attr not in [k[1] for k in unit[\"top20\"]]:\n",
    "            err+=1\n",
    "            break"
   ]
  },
  {
   "cell_type": "code",
   "execution_count": 9,
   "id": "cc62a1da-1a84-4272-ad23-a98c422af49d",
   "metadata": {
    "tags": []
   },
   "outputs": [
    {
     "data": {
      "text/plain": [
       "(683, 1000)"
      ]
     },
     "execution_count": 9,
     "metadata": {},
     "output_type": "execute_result"
    }
   ],
   "source": [
    "err,len(train_data)"
   ]
  },
  {
   "cell_type": "code",
   "execution_count": 10,
   "id": "716e6aa9-0958-4f0b-b771-5aecf01c3bf6",
   "metadata": {
    "tags": []
   },
   "outputs": [
    {
     "data": {
      "text/plain": [
       "0.31699999999999995"
      ]
     },
     "execution_count": 10,
     "metadata": {},
     "output_type": "execute_result"
    }
   ],
   "source": [
    "1-err/len(train_data)"
   ]
  },
  {
   "cell_type": "code",
   "execution_count": 11,
   "id": "af5a33ec-a814-4284-9c1d-0c1a7b27e78b",
   "metadata": {
    "tags": []
   },
   "outputs": [
    {
     "data": {
      "text/plain": [
       "{'id': 'TR002899',\n",
       " 'question': '近些年，我非常关注于丹现象。我对这种深入传统，大众化宣传的方式深感兴趣。但我对于丹详细的个人信息了解不多，特别是他的个人职业，现象的产生地点，以及产生原因等等，您能告诉我一下这些信息ma？',\n",
       " 'attribute': ['于丹现象 ||| 人物职业 ||| 北京师范大学教授',\n",
       "  '于丹现象 ||| 产生地点 ||| 央视百家讲坛',\n",
       "  '于丹现象 ||| 产生原因 ||| 七天解读《论语》心得'],\n",
       " 'top20': [['26449151', '我是一个不懂倾诉的对象 ||| 别名 ||| 我是一个不懂倾诉的对象'],\n",
       "  ['27241571', '这些机会不是属于我的 ||| 别名 ||| 这些机会不是属于我的'],\n",
       "  ['26449152', '我是一个不懂倾诉的对象 ||| 中文名称 ||| 我是一个不懂倾诉的对象'],\n",
       "  ['12922723', '这些年我深爱的女孩 ||| 别名 ||| 这些年我深爱的女孩'],\n",
       "  ['27241572', '这些机会不是属于我的 ||| 单曲名称 ||| 这些机会不是属于我的'],\n",
       "  ['12922724', '这些年我深爱的女孩 ||| 中文名 ||| 这些年我深爱的女孩'],\n",
       "  ['14780140', '这个女人是我的 ||| 别名 ||| 这个女人是我的'],\n",
       "  ['21198481', '这些都是我的爱 ||| 别名 ||| 这些都是我的爱'],\n",
       "  ['9416371', '关于我的一些事 ||| 别名 ||| 关于我的一些事'],\n",
       "  ['12928294', '对于他，这是个不能说的秘密 ||| 别名 ||| 对于他，这是个不能说的秘密'],\n",
       "  ['30246526', '僵尸员工 ||| 产生原因 ||| 产生这种现象的原因是多'],\n",
       "  ['19435548', '我就是这样的一个人 ||| 别名 ||| 我就是这样的一个人'],\n",
       "  ['21350954', '这是我的人生，不是别人的 ||| 别名 ||| 这是我的人生，不是别人的'],\n",
       "  ['21350955', '这是我的人生，不是别人的 ||| 书名 ||| 这是我的人生，不是别人的'],\n",
       "  ['14780141', '这个女人是我的 ||| 中文名 ||| 这个女人是我的'],\n",
       "  ['12760493', '唐阳茹 ||| 代表作品 ||| 《这是我给你的321封情书》、《我终于相信我现在是一个人了》'],\n",
       "  ['4362319', '我这个你不爱的人 ||| 别名 ||| 我这个你不爱的人'],\n",
       "  ['12928295', '对于他，这是个不能说的秘密 ||| 中文名 ||| 对于他,这是个不能说的秘密'],\n",
       "  ['27583889', '这些年，我们一起追的男人 ||| 别名 ||| 这些年，我们一起追的男人'],\n",
       "  ['9416372', '关于我的一些事 ||| 中文名 ||| 关于我的一些事']]}"
      ]
     },
     "execution_count": 11,
     "metadata": {},
     "output_type": "execute_result"
    }
   ],
   "source": [
    "unit"
   ]
  },
  {
   "cell_type": "code",
   "execution_count": null,
   "id": "5cd17358-f12d-432c-8b3c-6415c558b2d6",
   "metadata": {},
   "outputs": [],
   "source": []
  }
 ],
 "metadata": {
  "kernelspec": {
   "display_name": "Python 3 (ipykernel)",
   "language": "python",
   "name": "python3"
  },
  "language_info": {
   "codemirror_mode": {
    "name": "ipython",
    "version": 3
   },
   "file_extension": ".py",
   "mimetype": "text/x-python",
   "name": "python",
   "nbconvert_exporter": "python",
   "pygments_lexer": "ipython3",
   "version": "3.8.10"
  }
 },
 "nbformat": 4,
 "nbformat_minor": 5
}
