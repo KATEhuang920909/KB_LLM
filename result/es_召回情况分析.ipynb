{
 "cells": [
  {
   "cell_type": "code",
   "execution_count": 57,
   "id": "9706ec80",
   "metadata": {},
   "outputs": [],
   "source": [
    "# -*- coding: utf-8 -*-\n",
    "# @Time    : 2022/3/30 20:43\n",
    "# @Author  : huangkai\n",
    "# @File    : search_content.py\n",
    "\n",
    "\n",
    "import sys\n",
    "\n",
    "sys.path.append('../recall/nlp4es8/ir/')\n",
    "sys.path.append('../utils')\n",
    "\n",
    "from es_config import Config\n",
    "\n",
    "\n",
    "# from utils.logger_config import base_logger\n",
    "# from utils.args import FLAGS\n",
    "# from ir.index_hnsw import Index\n",
    "\n",
    "\n",
    "class Search(object):\n",
    "    def __init__(self, config, index_name):\n",
    "        # base_logger.info(\"Searching ...\")\n",
    "        self.config = config\n",
    "        self.es = self.config.es\n",
    "\n",
    "        self.index_name = index_name\n",
    "\n",
    "    def searchAnswer(self, question, ):\n",
    "        body = {\n",
    "            \"query\": {\n",
    "                \"multi_match\": {\n",
    "                    \"query\": question,\n",
    "                    \"fields\": [\"idx_document\"],  # 在question字段中匹配查询\n",
    "                    \"type\": \"most_fields\",\n",
    "                }\n",
    "            }\n",
    "        }\n",
    "\n",
    "        # es相关配置\n",
    "\n",
    "        res = self.es.search(index=self.index_name, body=body, request_timeout=30, size=self.config.top_n)\n",
    "\n",
    "        topn = res['hits']['hits']\n",
    "\n",
    "        result = []\n",
    "        for data in topn:\n",
    "            result.append(\n",
    "                (\n",
    "                    data['_source']['index'],\n",
    "                    data['_source']['idx_document'],\n",
    "                    data['_source']['ori_document']\n",
    "                )\n",
    "            )\n",
    "        return result\n"
   ]
  },
  {
   "cell_type": "code",
   "execution_count": 58,
   "id": "fbe61cc2",
   "metadata": {},
   "outputs": [],
   "source": [
    "import pandas as pd\n",
    "import json\n",
    "\n",
    "index_file_content_config = Config()\n",
    "index_file_content_config.index_name = \"kbqa\"\n",
    "index_file_content_config.top_n=20\n",
    "search_name = Search(index_file_content_config, \"kbqa\")"
   ]
  },
  {
   "cell_type": "code",
   "execution_count": 32,
   "id": "fdcdfc14-6454-4ded-b43f-888ca4c69ecf",
   "metadata": {
    "scrolled": true,
    "tags": []
   },
   "outputs": [],
   "source": [
    "import json\n",
    "dev_data = [json.loads(line.strip()) for line in open(\"../data/dev_sft.json\", encoding=\"utf8\")]\n",
    "train_data = [json.loads(line.strip()) for line in open(\"../data/train_sft.json\", encoding=\"utf8\")]"
   ]
  },
  {
   "cell_type": "code",
   "execution_count": 45,
   "id": "cbe5217e",
   "metadata": {},
   "outputs": [],
   "source": [
    "import json\n",
    "train = json.loads( open(\"../data/train.json\", encoding=\"utf8\").read())"
   ]
  },
  {
   "cell_type": "code",
   "execution_count": 48,
   "id": "56669393",
   "metadata": {},
   "outputs": [],
   "source": [
    "train_dic={}\n",
    "for unit in train:\n",
    "    train_dic[unit[\"question\"]]=unit[\"attribute\"]"
   ]
  },
  {
   "cell_type": "code",
   "execution_count": 47,
   "id": "83e63744",
   "metadata": {},
   "outputs": [],
   "source": [
    "data=train_data+dev_data"
   ]
  },
  {
   "cell_type": "code",
   "execution_count": 49,
   "id": "ce2ceff3",
   "metadata": {},
   "outputs": [
    {
     "name": "stderr",
     "output_type": "stream",
     "text": [
      "100%|██████████████████████████████████████████████████████████████████████████| 2349/2349 [00:00<00:00, 784865.78it/s]\n"
     ]
    }
   ],
   "source": [
    "from tqdm import tqdm\n",
    "final_result={}\n",
    "for unit in tqdm(data):\n",
    "    question=unit[\"question\"]\n",
    "    if question in final_result:\n",
    "        if unit[\"task_type\"]==\"tuple_extract\":\n",
    "            final_result[question][\"tuple_answer\"]=unit[\"answer\"]\n",
    "        else:\n",
    "            final_result[question][\"table_answer\"]=train_dic[question]\n",
    "            final_result[question][\"es_top20\"]=unit[\"instruction\"]\n",
    "    else:\n",
    "        final_result[question]={}\n",
    "        if unit[\"task_type\"]==\"tuple_extract\":\n",
    "            final_result[question][\"tuple_answer\"]=unit[\"answer\"]\n",
    "        else:\n",
    "            final_result[question][\"table_answer\"]=train_dic[question]\n",
    "            final_result[question][\"es_top20\"]=unit[\"instruction\"]"
   ]
  },
  {
   "cell_type": "code",
   "execution_count": 50,
   "id": "f55a3852",
   "metadata": {},
   "outputs": [
    {
     "data": {
      "text/plain": [
       "{'tuple_answer': '阿杜最近的梦想;阿杜最高兴的事;阿杜最喜欢的艺人',\n",
       " 'table_answer': ['阿杜 ||| 最近的梦想 ||| 过年能去国外旅游~',\n",
       "  '阿杜 ||| 最高兴的事 ||| 中马票',\n",
       "  '阿杜 ||| 最喜欢的艺人 ||| 周慧敏'],\n",
       " 'es_top20': ['原来我最爱的人是你不是他 ||| 别名 ||| 原来我最爱的人是你不是他',\n",
       "  '原来我最爱的人是你不是他 ||| 中文名称 ||| 原来我最爱的人是你不是他',\n",
       "  '原来我最爱的人是你不是他 ||| 音乐风格 ||| 流行',\n",
       "  '他是我最讨厌的人 ||| 别名 ||| 他是我最讨厌的人',\n",
       "  '我的他不是他 ||| 别名 ||| 我的他不是他',\n",
       "  '他是我最讨厌的人 ||| 中文名 ||| 他是我最讨厌的人',\n",
       "  '我的他不是他 ||| 中文名 ||| 我的他不是他',\n",
       "  '原来你喜欢的是他 ||| 别名 ||| 原来你喜欢的是他',\n",
       "  '原来我最爱的人是你不是他 ||| 歌曲原唱 ||| 林健辉',\n",
       "  '我的他是超人 ||| 书名 ||| 我的他是超人',\n",
       "  '我爱的人，他不是人 ||| 别名 ||| 我爱的人，他不是人',\n",
       "  '我爱的人，他不是人 ||| 中文名 ||| 我爱的人,他不是人',\n",
       "  '原来我最爱的人是你不是他 ||| 歌曲语言 ||| 国语',\n",
       "  '他说我是他的 ||| 别名 ||| 他说我是他的',\n",
       "  '你是我的他 ||| 别名 ||| 你是我的他',\n",
       "  '原来你喜欢的是他 ||| 中文名称 ||| 原来你喜欢的是他',\n",
       "  '他爱的人不该是我 ||| 别名 ||| 他爱的人不该是我',\n",
       "  '我的他是超人 ||| 别名 ||| 我的他是超人',\n",
       "  '他说我是他的 ||| 中文名 ||| 他说我是他的',\n",
       "  '他，是我的 ||| 别名 ||| 他，是我的']}"
      ]
     },
     "execution_count": 50,
     "metadata": {},
     "output_type": "execute_result"
    }
   ],
   "source": [
    "final_result[\"在我的心中，阿杜是一位总能给人带来惊喜的音乐熊。他的嗓音独栋特，曲风新颖，作品里满了他的个人魅力。我记得他曾在新家坡出道，啥知道他唱的是流行歌曲，还讲得他喜爱的书脚是《龙虎》们。但我不知道他最近的搭讪，最开心的原以及他最喜欢的艺人，希望你可以告街我。\"]"
   ]
  },
  {
   "cell_type": "code",
   "execution_count": 51,
   "id": "8c572a95",
   "metadata": {
    "scrolled": false
   },
   "outputs": [
    {
     "name": "stderr",
     "output_type": "stream",
     "text": [
      "100%|████████████████████████████████████████████████████████████████████████████| 470/470 [00:00<00:00, 471382.80it/s]\n"
     ]
    }
   ],
   "source": [
    "dev_result={}\n",
    "for unit in tqdm(dev_data):\n",
    "    if unit[\"task_type\"]==\"tuple_extract\":\n",
    "        dev_result[unit[\"question\"]]=final_result[unit[\"question\"]]"
   ]
  },
  {
   "cell_type": "code",
   "execution_count": 55,
   "id": "3b3b4996",
   "metadata": {},
   "outputs": [
    {
     "data": {
      "text/plain": [
       "{'table_answer': ['莫文蔚 ||| 最感动的事 ||| 歌迷做的网页'],\n",
       " 'es_top20': ['《动什么，别动感情》 ||| 别名 ||| 《动什么，别动感情》',\n",
       "  '《动什么别动感情》 ||| 别名 ||| 《动什么别动感情》',\n",
       "  '还有什么样的感情能让你心动 ||| 中文名 ||| 还有什么样的感情能让你心动',\n",
       "  '还有什么样的感情能让你心动 ||| 别名 ||| 还有什么样的感情能让你心动',\n",
       "  '什么是感动 ||| 中文名 ||| 什么是感动',\n",
       "  '动什么，别动感情(赵赵著小说) ||| 别名 ||| 动什么，别动感情',\n",
       "  '动什么，别动感情(赵赵著小说) ||| 书名 ||| 动什么，别动感情',\n",
       "  '什么是感动 ||| 别名 ||| 什么是感动',\n",
       "  '什么都不动也得动感情 ||| 别名 ||| 什么都不动也得动感情',\n",
       "  '什么都不动也得动感情 ||| 书名 ||| 什么都不动也得动感情',\n",
       "  '是什么样的感情 ||| 中文名 ||| 是什么样的感情',\n",
       "  '拿什么感动你 ||| 书名 ||| 拿什么感动你',\n",
       "  '拿什么感动你 ||| 别名 ||| 拿什么感动你',\n",
       "  '为什么感到不幸福 ||| 书名 ||| 为什么感到不幸福',\n",
       "  '为什么感到不幸福 ||| 别名 ||| 为什么感到不幸福',\n",
       "  '动什么，别动感情(2004年唐大年执导电视剧) ||| 中文名 ||| 动什么，别动感情',\n",
       "  '是什么样的感情 ||| 别名 ||| 是什么样的感情',\n",
       "  '我用什么来感动 ||| 中文名 ||| 我用什么来感动',\n",
       "  '是什么左右了感情 ||| 中文名 ||| 是什么左右了感情',\n",
       "  '动什么，别动感情(2004年唐大年执导电视剧) ||| 别名 ||| 动什么，别动感情'],\n",
       " 'tuple_answer': '莫文蔚最感动的事'}"
      ]
     },
     "execution_count": 55,
     "metadata": {},
     "output_type": "execute_result"
    }
   ],
   "source": [
    "dev_result[\"什么事情让莫文蔚感到感动？\"]"
   ]
  },
  {
   "cell_type": "code",
   "execution_count": 56,
   "id": "3362b635",
   "metadata": {},
   "outputs": [
    {
     "data": {
      "text/plain": [
       "137936"
      ]
     },
     "execution_count": 56,
     "metadata": {},
     "output_type": "execute_result"
    }
   ],
   "source": [
    "submission = open(\"es召回测试.json\", \"w\", encoding=\"utf8\")\n",
    "\n",
    "submission.write(json.dumps(dev_result, ensure_ascii=False))"
   ]
  },
  {
   "cell_type": "code",
   "execution_count": 25,
   "id": "baf1730f",
   "metadata": {
    "collapsed": true
   },
   "outputs": [
    {
     "name": "stderr",
     "output_type": "stream",
     "text": [
      "  9%|███████▍                                                                        | 93/1000 [02:12<21:30,  1.42s/it]\n"
     ]
    },
    {
     "ename": "KeyboardInterrupt",
     "evalue": "",
     "output_type": "error",
     "traceback": [
      "\u001b[1;31m---------------------------------------------------------------------------\u001b[0m",
      "\u001b[1;31mKeyboardInterrupt\u001b[0m                         Traceback (most recent call last)",
      "Cell \u001b[1;32mIn[25], line 6\u001b[0m\n\u001b[0;32m      4\u001b[0m \u001b[38;5;28;01mfor\u001b[39;00m attr \u001b[38;5;129;01min\u001b[39;00m unit[\u001b[38;5;124m\"\u001b[39m\u001b[38;5;124mattribute\u001b[39m\u001b[38;5;124m\"\u001b[39m]:\n\u001b[0;32m      5\u001b[0m     sums\u001b[38;5;241m+\u001b[39m\u001b[38;5;241m=\u001b[39m\u001b[38;5;241m1\u001b[39m\n\u001b[1;32m----> 6\u001b[0m     \u001b[38;5;28;01mif\u001b[39;00m attr \u001b[38;5;129;01min\u001b[39;00m [k[\u001b[38;5;241m2\u001b[39m] \u001b[38;5;28;01mfor\u001b[39;00m k \u001b[38;5;129;01min\u001b[39;00m \u001b[43msearch_name\u001b[49m\u001b[38;5;241;43m.\u001b[39;49m\u001b[43msearchAnswer\u001b[49m\u001b[43m(\u001b[49m\u001b[43munit\u001b[49m\u001b[43m[\u001b[49m\u001b[38;5;124;43m\"\u001b[39;49m\u001b[38;5;124;43mquestion\u001b[39;49m\u001b[38;5;124;43m\"\u001b[39;49m\u001b[43m]\u001b[49m\u001b[43m)\u001b[49m]:\n\u001b[0;32m      7\u001b[0m         count\u001b[38;5;241m+\u001b[39m\u001b[38;5;241m=\u001b[39m\u001b[38;5;241m1\u001b[39m\n",
      "Cell \u001b[1;32mIn[1], line 41\u001b[0m, in \u001b[0;36mSearch.searchAnswer\u001b[1;34m(self, question)\u001b[0m\n\u001b[0;32m     29\u001b[0m body \u001b[38;5;241m=\u001b[39m {\n\u001b[0;32m     30\u001b[0m     \u001b[38;5;124m\"\u001b[39m\u001b[38;5;124mquery\u001b[39m\u001b[38;5;124m\"\u001b[39m: {\n\u001b[0;32m     31\u001b[0m         \u001b[38;5;124m\"\u001b[39m\u001b[38;5;124mmulti_match\u001b[39m\u001b[38;5;124m\"\u001b[39m: {\n\u001b[1;32m   (...)\u001b[0m\n\u001b[0;32m     36\u001b[0m     }\n\u001b[0;32m     37\u001b[0m }\n\u001b[0;32m     39\u001b[0m \u001b[38;5;66;03m# es相关配置\u001b[39;00m\n\u001b[1;32m---> 41\u001b[0m res \u001b[38;5;241m=\u001b[39m \u001b[38;5;28;43mself\u001b[39;49m\u001b[38;5;241;43m.\u001b[39;49m\u001b[43mes\u001b[49m\u001b[38;5;241;43m.\u001b[39;49m\u001b[43msearch\u001b[49m\u001b[43m(\u001b[49m\u001b[43mindex\u001b[49m\u001b[38;5;241;43m=\u001b[39;49m\u001b[38;5;28;43mself\u001b[39;49m\u001b[38;5;241;43m.\u001b[39;49m\u001b[43mindex_name\u001b[49m\u001b[43m,\u001b[49m\u001b[43m \u001b[49m\u001b[43mbody\u001b[49m\u001b[38;5;241;43m=\u001b[39;49m\u001b[43mbody\u001b[49m\u001b[43m,\u001b[49m\u001b[43m \u001b[49m\u001b[43mrequest_timeout\u001b[49m\u001b[38;5;241;43m=\u001b[39;49m\u001b[38;5;241;43m30\u001b[39;49m\u001b[43m,\u001b[49m\u001b[43m \u001b[49m\u001b[43msize\u001b[49m\u001b[38;5;241;43m=\u001b[39;49m\u001b[38;5;28;43mself\u001b[39;49m\u001b[38;5;241;43m.\u001b[39;49m\u001b[43mconfig\u001b[49m\u001b[38;5;241;43m.\u001b[39;49m\u001b[43mtop_n\u001b[49m\u001b[43m)\u001b[49m\n\u001b[0;32m     43\u001b[0m topn \u001b[38;5;241m=\u001b[39m res[\u001b[38;5;124m'\u001b[39m\u001b[38;5;124mhits\u001b[39m\u001b[38;5;124m'\u001b[39m][\u001b[38;5;124m'\u001b[39m\u001b[38;5;124mhits\u001b[39m\u001b[38;5;124m'\u001b[39m]\n\u001b[0;32m     45\u001b[0m result \u001b[38;5;241m=\u001b[39m []\n",
      "File \u001b[1;32md:\\python38\\lib\\site-packages\\elasticsearch\\client\\utils.py:84\u001b[0m, in \u001b[0;36mquery_params.<locals>._wrapper.<locals>._wrapped\u001b[1;34m(*args, **kwargs)\u001b[0m\n\u001b[0;32m     82\u001b[0m     \u001b[38;5;28;01mif\u001b[39;00m p \u001b[38;5;129;01min\u001b[39;00m kwargs:\n\u001b[0;32m     83\u001b[0m         params[p] \u001b[38;5;241m=\u001b[39m kwargs\u001b[38;5;241m.\u001b[39mpop(p)\n\u001b[1;32m---> 84\u001b[0m \u001b[38;5;28;01mreturn\u001b[39;00m \u001b[43mfunc\u001b[49m\u001b[43m(\u001b[49m\u001b[38;5;241;43m*\u001b[39;49m\u001b[43margs\u001b[49m\u001b[43m,\u001b[49m\u001b[43m \u001b[49m\u001b[43mparams\u001b[49m\u001b[38;5;241;43m=\u001b[39;49m\u001b[43mparams\u001b[49m\u001b[43m,\u001b[49m\u001b[43m \u001b[49m\u001b[38;5;241;43m*\u001b[39;49m\u001b[38;5;241;43m*\u001b[39;49m\u001b[43mkwargs\u001b[49m\u001b[43m)\u001b[49m\n",
      "File \u001b[1;32md:\\python38\\lib\\site-packages\\elasticsearch\\client\\__init__.py:817\u001b[0m, in \u001b[0;36mElasticsearch.search\u001b[1;34m(self, index, body, params)\u001b[0m\n\u001b[0;32m    815\u001b[0m \u001b[38;5;28;01mif\u001b[39;00m \u001b[38;5;129;01mnot\u001b[39;00m index:\n\u001b[0;32m    816\u001b[0m     index \u001b[38;5;241m=\u001b[39m \u001b[38;5;124m\"\u001b[39m\u001b[38;5;124m_all\u001b[39m\u001b[38;5;124m\"\u001b[39m\n\u001b[1;32m--> 817\u001b[0m \u001b[38;5;28;01mreturn\u001b[39;00m \u001b[38;5;28;43mself\u001b[39;49m\u001b[38;5;241;43m.\u001b[39;49m\u001b[43mtransport\u001b[49m\u001b[38;5;241;43m.\u001b[39;49m\u001b[43mperform_request\u001b[49m\u001b[43m(\u001b[49m\n\u001b[0;32m    818\u001b[0m \u001b[43m    \u001b[49m\u001b[38;5;124;43m\"\u001b[39;49m\u001b[38;5;124;43mGET\u001b[39;49m\u001b[38;5;124;43m\"\u001b[39;49m\u001b[43m,\u001b[49m\u001b[43m \u001b[49m\u001b[43m_make_path\u001b[49m\u001b[43m(\u001b[49m\u001b[43mindex\u001b[49m\u001b[43m,\u001b[49m\u001b[43m \u001b[49m\u001b[38;5;124;43m\"\u001b[39;49m\u001b[38;5;124;43m_search\u001b[39;49m\u001b[38;5;124;43m\"\u001b[39;49m\u001b[43m)\u001b[49m\u001b[43m,\u001b[49m\u001b[43m \u001b[49m\u001b[43mparams\u001b[49m\u001b[38;5;241;43m=\u001b[39;49m\u001b[43mparams\u001b[49m\u001b[43m,\u001b[49m\u001b[43m \u001b[49m\u001b[43mbody\u001b[49m\u001b[38;5;241;43m=\u001b[39;49m\u001b[43mbody\u001b[49m\n\u001b[0;32m    819\u001b[0m \u001b[43m\u001b[49m\u001b[43m)\u001b[49m\n",
      "File \u001b[1;32md:\\python38\\lib\\site-packages\\elasticsearch\\transport.py:346\u001b[0m, in \u001b[0;36mTransport.perform_request\u001b[1;34m(self, method, url, headers, params, body)\u001b[0m\n\u001b[0;32m    344\u001b[0m     delay \u001b[38;5;241m=\u001b[39m \u001b[38;5;241m2\u001b[39m \u001b[38;5;241m*\u001b[39m\u001b[38;5;241m*\u001b[39m attempt \u001b[38;5;241m-\u001b[39m \u001b[38;5;241m1\u001b[39m\n\u001b[0;32m    345\u001b[0m     time\u001b[38;5;241m.\u001b[39msleep(delay)\n\u001b[1;32m--> 346\u001b[0m     status, headers_response, data \u001b[38;5;241m=\u001b[39m \u001b[43mconnection\u001b[49m\u001b[38;5;241;43m.\u001b[39;49m\u001b[43mperform_request\u001b[49m\u001b[43m(\u001b[49m\n\u001b[0;32m    347\u001b[0m \u001b[43m        \u001b[49m\u001b[43mmethod\u001b[49m\u001b[43m,\u001b[49m\n\u001b[0;32m    348\u001b[0m \u001b[43m        \u001b[49m\u001b[43murl\u001b[49m\u001b[43m,\u001b[49m\n\u001b[0;32m    349\u001b[0m \u001b[43m        \u001b[49m\u001b[43mparams\u001b[49m\u001b[43m,\u001b[49m\n\u001b[0;32m    350\u001b[0m \u001b[43m        \u001b[49m\u001b[43mbody\u001b[49m\u001b[43m,\u001b[49m\n\u001b[0;32m    351\u001b[0m \u001b[43m        \u001b[49m\u001b[43mheaders\u001b[49m\u001b[38;5;241;43m=\u001b[39;49m\u001b[43mheaders\u001b[49m\u001b[43m,\u001b[49m\n\u001b[0;32m    352\u001b[0m \u001b[43m        \u001b[49m\u001b[43mignore\u001b[49m\u001b[38;5;241;43m=\u001b[39;49m\u001b[43mignore\u001b[49m\u001b[43m,\u001b[49m\n\u001b[0;32m    353\u001b[0m \u001b[43m        \u001b[49m\u001b[43mtimeout\u001b[49m\u001b[38;5;241;43m=\u001b[39;49m\u001b[43mtimeout\u001b[49m\u001b[43m,\u001b[49m\n\u001b[0;32m    354\u001b[0m \u001b[43m    \u001b[49m\u001b[43m)\u001b[49m\n\u001b[0;32m    356\u001b[0m \u001b[38;5;28;01mexcept\u001b[39;00m TransportError \u001b[38;5;28;01mas\u001b[39;00m e:\n\u001b[0;32m    357\u001b[0m     \u001b[38;5;28;01mif\u001b[39;00m method \u001b[38;5;241m==\u001b[39m \u001b[38;5;124m\"\u001b[39m\u001b[38;5;124mHEAD\u001b[39m\u001b[38;5;124m\"\u001b[39m \u001b[38;5;129;01mand\u001b[39;00m e\u001b[38;5;241m.\u001b[39mstatus_code \u001b[38;5;241m==\u001b[39m \u001b[38;5;241m404\u001b[39m:\n",
      "File \u001b[1;32md:\\python38\\lib\\site-packages\\elasticsearch\\connection\\http_urllib3.py:219\u001b[0m, in \u001b[0;36mUrllib3HttpConnection.perform_request\u001b[1;34m(self, method, url, params, body, timeout, ignore, headers)\u001b[0m\n\u001b[0;32m    214\u001b[0m     \u001b[38;5;28;01mexcept\u001b[39;00m \u001b[38;5;167;01mAttributeError\u001b[39;00m:\n\u001b[0;32m    215\u001b[0m         \u001b[38;5;66;03m# oops, Python2.7 doesn't have `gzip.compress` let's try\u001b[39;00m\n\u001b[0;32m    216\u001b[0m         \u001b[38;5;66;03m# again\u001b[39;00m\n\u001b[0;32m    217\u001b[0m         body \u001b[38;5;241m=\u001b[39m gzip\u001b[38;5;241m.\u001b[39mzlib\u001b[38;5;241m.\u001b[39mcompress(body)\n\u001b[1;32m--> 219\u001b[0m response \u001b[38;5;241m=\u001b[39m \u001b[38;5;28;43mself\u001b[39;49m\u001b[38;5;241;43m.\u001b[39;49m\u001b[43mpool\u001b[49m\u001b[38;5;241;43m.\u001b[39;49m\u001b[43murlopen\u001b[49m\u001b[43m(\u001b[49m\n\u001b[0;32m    220\u001b[0m \u001b[43m    \u001b[49m\u001b[43mmethod\u001b[49m\u001b[43m,\u001b[49m\u001b[43m \u001b[49m\u001b[43murl\u001b[49m\u001b[43m,\u001b[49m\u001b[43m \u001b[49m\u001b[43mbody\u001b[49m\u001b[43m,\u001b[49m\u001b[43m \u001b[49m\u001b[43mretries\u001b[49m\u001b[38;5;241;43m=\u001b[39;49m\u001b[43mRetry\u001b[49m\u001b[43m(\u001b[49m\u001b[38;5;28;43;01mFalse\u001b[39;49;00m\u001b[43m)\u001b[49m\u001b[43m,\u001b[49m\u001b[43m \u001b[49m\u001b[43mheaders\u001b[49m\u001b[38;5;241;43m=\u001b[39;49m\u001b[43mrequest_headers\u001b[49m\u001b[43m,\u001b[49m\u001b[43m \u001b[49m\u001b[38;5;241;43m*\u001b[39;49m\u001b[38;5;241;43m*\u001b[39;49m\u001b[43mkw\u001b[49m\n\u001b[0;32m    221\u001b[0m \u001b[43m\u001b[49m\u001b[43m)\u001b[49m\n\u001b[0;32m    222\u001b[0m duration \u001b[38;5;241m=\u001b[39m time\u001b[38;5;241m.\u001b[39mtime() \u001b[38;5;241m-\u001b[39m start\n\u001b[0;32m    223\u001b[0m raw_data \u001b[38;5;241m=\u001b[39m response\u001b[38;5;241m.\u001b[39mdata\u001b[38;5;241m.\u001b[39mdecode(\u001b[38;5;124m\"\u001b[39m\u001b[38;5;124mutf-8\u001b[39m\u001b[38;5;124m\"\u001b[39m)\n",
      "File \u001b[1;32md:\\python38\\lib\\site-packages\\urllib3\\connectionpool.py:703\u001b[0m, in \u001b[0;36mHTTPConnectionPool.urlopen\u001b[1;34m(self, method, url, body, headers, retries, redirect, assert_same_host, timeout, pool_timeout, release_conn, chunked, body_pos, **response_kw)\u001b[0m\n\u001b[0;32m    700\u001b[0m     \u001b[38;5;28mself\u001b[39m\u001b[38;5;241m.\u001b[39m_prepare_proxy(conn)\n\u001b[0;32m    702\u001b[0m \u001b[38;5;66;03m# Make the request on the httplib connection object.\u001b[39;00m\n\u001b[1;32m--> 703\u001b[0m httplib_response \u001b[38;5;241m=\u001b[39m \u001b[38;5;28;43mself\u001b[39;49m\u001b[38;5;241;43m.\u001b[39;49m\u001b[43m_make_request\u001b[49m\u001b[43m(\u001b[49m\n\u001b[0;32m    704\u001b[0m \u001b[43m    \u001b[49m\u001b[43mconn\u001b[49m\u001b[43m,\u001b[49m\n\u001b[0;32m    705\u001b[0m \u001b[43m    \u001b[49m\u001b[43mmethod\u001b[49m\u001b[43m,\u001b[49m\n\u001b[0;32m    706\u001b[0m \u001b[43m    \u001b[49m\u001b[43murl\u001b[49m\u001b[43m,\u001b[49m\n\u001b[0;32m    707\u001b[0m \u001b[43m    \u001b[49m\u001b[43mtimeout\u001b[49m\u001b[38;5;241;43m=\u001b[39;49m\u001b[43mtimeout_obj\u001b[49m\u001b[43m,\u001b[49m\n\u001b[0;32m    708\u001b[0m \u001b[43m    \u001b[49m\u001b[43mbody\u001b[49m\u001b[38;5;241;43m=\u001b[39;49m\u001b[43mbody\u001b[49m\u001b[43m,\u001b[49m\n\u001b[0;32m    709\u001b[0m \u001b[43m    \u001b[49m\u001b[43mheaders\u001b[49m\u001b[38;5;241;43m=\u001b[39;49m\u001b[43mheaders\u001b[49m\u001b[43m,\u001b[49m\n\u001b[0;32m    710\u001b[0m \u001b[43m    \u001b[49m\u001b[43mchunked\u001b[49m\u001b[38;5;241;43m=\u001b[39;49m\u001b[43mchunked\u001b[49m\u001b[43m,\u001b[49m\n\u001b[0;32m    711\u001b[0m \u001b[43m\u001b[49m\u001b[43m)\u001b[49m\n\u001b[0;32m    713\u001b[0m \u001b[38;5;66;03m# If we're going to release the connection in ``finally:``, then\u001b[39;00m\n\u001b[0;32m    714\u001b[0m \u001b[38;5;66;03m# the response doesn't need to know about the connection. Otherwise\u001b[39;00m\n\u001b[0;32m    715\u001b[0m \u001b[38;5;66;03m# it will also try to release it and we'll have a double-release\u001b[39;00m\n\u001b[0;32m    716\u001b[0m \u001b[38;5;66;03m# mess.\u001b[39;00m\n\u001b[0;32m    717\u001b[0m response_conn \u001b[38;5;241m=\u001b[39m conn \u001b[38;5;28;01mif\u001b[39;00m \u001b[38;5;129;01mnot\u001b[39;00m release_conn \u001b[38;5;28;01melse\u001b[39;00m \u001b[38;5;28;01mNone\u001b[39;00m\n",
      "File \u001b[1;32md:\\python38\\lib\\site-packages\\urllib3\\connectionpool.py:449\u001b[0m, in \u001b[0;36mHTTPConnectionPool._make_request\u001b[1;34m(self, conn, method, url, timeout, chunked, **httplib_request_kw)\u001b[0m\n\u001b[0;32m    444\u001b[0m             httplib_response \u001b[38;5;241m=\u001b[39m conn\u001b[38;5;241m.\u001b[39mgetresponse()\n\u001b[0;32m    445\u001b[0m         \u001b[38;5;28;01mexcept\u001b[39;00m \u001b[38;5;167;01mBaseException\u001b[39;00m \u001b[38;5;28;01mas\u001b[39;00m e:\n\u001b[0;32m    446\u001b[0m             \u001b[38;5;66;03m# Remove the TypeError from the exception chain in\u001b[39;00m\n\u001b[0;32m    447\u001b[0m             \u001b[38;5;66;03m# Python 3 (including for exceptions like SystemExit).\u001b[39;00m\n\u001b[0;32m    448\u001b[0m             \u001b[38;5;66;03m# Otherwise it looks like a bug in the code.\u001b[39;00m\n\u001b[1;32m--> 449\u001b[0m             \u001b[43msix\u001b[49m\u001b[38;5;241;43m.\u001b[39;49m\u001b[43mraise_from\u001b[49m\u001b[43m(\u001b[49m\u001b[43me\u001b[49m\u001b[43m,\u001b[49m\u001b[43m \u001b[49m\u001b[38;5;28;43;01mNone\u001b[39;49;00m\u001b[43m)\u001b[49m\n\u001b[0;32m    450\u001b[0m \u001b[38;5;28;01mexcept\u001b[39;00m (SocketTimeout, BaseSSLError, SocketError) \u001b[38;5;28;01mas\u001b[39;00m e:\n\u001b[0;32m    451\u001b[0m     \u001b[38;5;28mself\u001b[39m\u001b[38;5;241m.\u001b[39m_raise_timeout(err\u001b[38;5;241m=\u001b[39me, url\u001b[38;5;241m=\u001b[39murl, timeout_value\u001b[38;5;241m=\u001b[39mread_timeout)\n",
      "File \u001b[1;32m<string>:3\u001b[0m, in \u001b[0;36mraise_from\u001b[1;34m(value, from_value)\u001b[0m\n",
      "File \u001b[1;32md:\\python38\\lib\\site-packages\\urllib3\\connectionpool.py:444\u001b[0m, in \u001b[0;36mHTTPConnectionPool._make_request\u001b[1;34m(self, conn, method, url, timeout, chunked, **httplib_request_kw)\u001b[0m\n\u001b[0;32m    441\u001b[0m \u001b[38;5;28;01mexcept\u001b[39;00m \u001b[38;5;167;01mTypeError\u001b[39;00m:\n\u001b[0;32m    442\u001b[0m     \u001b[38;5;66;03m# Python 3\u001b[39;00m\n\u001b[0;32m    443\u001b[0m     \u001b[38;5;28;01mtry\u001b[39;00m:\n\u001b[1;32m--> 444\u001b[0m         httplib_response \u001b[38;5;241m=\u001b[39m \u001b[43mconn\u001b[49m\u001b[38;5;241;43m.\u001b[39;49m\u001b[43mgetresponse\u001b[49m\u001b[43m(\u001b[49m\u001b[43m)\u001b[49m\n\u001b[0;32m    445\u001b[0m     \u001b[38;5;28;01mexcept\u001b[39;00m \u001b[38;5;167;01mBaseException\u001b[39;00m \u001b[38;5;28;01mas\u001b[39;00m e:\n\u001b[0;32m    446\u001b[0m         \u001b[38;5;66;03m# Remove the TypeError from the exception chain in\u001b[39;00m\n\u001b[0;32m    447\u001b[0m         \u001b[38;5;66;03m# Python 3 (including for exceptions like SystemExit).\u001b[39;00m\n\u001b[0;32m    448\u001b[0m         \u001b[38;5;66;03m# Otherwise it looks like a bug in the code.\u001b[39;00m\n\u001b[0;32m    449\u001b[0m         six\u001b[38;5;241m.\u001b[39mraise_from(e, \u001b[38;5;28;01mNone\u001b[39;00m)\n",
      "File \u001b[1;32md:\\python38\\lib\\http\\client.py:1344\u001b[0m, in \u001b[0;36mHTTPConnection.getresponse\u001b[1;34m(self)\u001b[0m\n\u001b[0;32m   1342\u001b[0m \u001b[38;5;28;01mtry\u001b[39;00m:\n\u001b[0;32m   1343\u001b[0m     \u001b[38;5;28;01mtry\u001b[39;00m:\n\u001b[1;32m-> 1344\u001b[0m         \u001b[43mresponse\u001b[49m\u001b[38;5;241;43m.\u001b[39;49m\u001b[43mbegin\u001b[49m\u001b[43m(\u001b[49m\u001b[43m)\u001b[49m\n\u001b[0;32m   1345\u001b[0m     \u001b[38;5;28;01mexcept\u001b[39;00m \u001b[38;5;167;01mConnectionError\u001b[39;00m:\n\u001b[0;32m   1346\u001b[0m         \u001b[38;5;28mself\u001b[39m\u001b[38;5;241m.\u001b[39mclose()\n",
      "File \u001b[1;32md:\\python38\\lib\\http\\client.py:307\u001b[0m, in \u001b[0;36mHTTPResponse.begin\u001b[1;34m(self)\u001b[0m\n\u001b[0;32m    305\u001b[0m \u001b[38;5;66;03m# read until we get a non-100 response\u001b[39;00m\n\u001b[0;32m    306\u001b[0m \u001b[38;5;28;01mwhile\u001b[39;00m \u001b[38;5;28;01mTrue\u001b[39;00m:\n\u001b[1;32m--> 307\u001b[0m     version, status, reason \u001b[38;5;241m=\u001b[39m \u001b[38;5;28;43mself\u001b[39;49m\u001b[38;5;241;43m.\u001b[39;49m\u001b[43m_read_status\u001b[49m\u001b[43m(\u001b[49m\u001b[43m)\u001b[49m\n\u001b[0;32m    308\u001b[0m     \u001b[38;5;28;01mif\u001b[39;00m status \u001b[38;5;241m!=\u001b[39m CONTINUE:\n\u001b[0;32m    309\u001b[0m         \u001b[38;5;28;01mbreak\u001b[39;00m\n",
      "File \u001b[1;32md:\\python38\\lib\\http\\client.py:268\u001b[0m, in \u001b[0;36mHTTPResponse._read_status\u001b[1;34m(self)\u001b[0m\n\u001b[0;32m    267\u001b[0m \u001b[38;5;28;01mdef\u001b[39;00m \u001b[38;5;21m_read_status\u001b[39m(\u001b[38;5;28mself\u001b[39m):\n\u001b[1;32m--> 268\u001b[0m     line \u001b[38;5;241m=\u001b[39m \u001b[38;5;28mstr\u001b[39m(\u001b[38;5;28;43mself\u001b[39;49m\u001b[38;5;241;43m.\u001b[39;49m\u001b[43mfp\u001b[49m\u001b[38;5;241;43m.\u001b[39;49m\u001b[43mreadline\u001b[49m\u001b[43m(\u001b[49m\u001b[43m_MAXLINE\u001b[49m\u001b[43m \u001b[49m\u001b[38;5;241;43m+\u001b[39;49m\u001b[43m \u001b[49m\u001b[38;5;241;43m1\u001b[39;49m\u001b[43m)\u001b[49m, \u001b[38;5;124m\"\u001b[39m\u001b[38;5;124miso-8859-1\u001b[39m\u001b[38;5;124m\"\u001b[39m)\n\u001b[0;32m    269\u001b[0m     \u001b[38;5;28;01mif\u001b[39;00m \u001b[38;5;28mlen\u001b[39m(line) \u001b[38;5;241m>\u001b[39m _MAXLINE:\n\u001b[0;32m    270\u001b[0m         \u001b[38;5;28;01mraise\u001b[39;00m LineTooLong(\u001b[38;5;124m\"\u001b[39m\u001b[38;5;124mstatus line\u001b[39m\u001b[38;5;124m\"\u001b[39m)\n",
      "File \u001b[1;32md:\\python38\\lib\\socket.py:669\u001b[0m, in \u001b[0;36mSocketIO.readinto\u001b[1;34m(self, b)\u001b[0m\n\u001b[0;32m    667\u001b[0m \u001b[38;5;28;01mwhile\u001b[39;00m \u001b[38;5;28;01mTrue\u001b[39;00m:\n\u001b[0;32m    668\u001b[0m     \u001b[38;5;28;01mtry\u001b[39;00m:\n\u001b[1;32m--> 669\u001b[0m         \u001b[38;5;28;01mreturn\u001b[39;00m \u001b[38;5;28;43mself\u001b[39;49m\u001b[38;5;241;43m.\u001b[39;49m\u001b[43m_sock\u001b[49m\u001b[38;5;241;43m.\u001b[39;49m\u001b[43mrecv_into\u001b[49m\u001b[43m(\u001b[49m\u001b[43mb\u001b[49m\u001b[43m)\u001b[49m\n\u001b[0;32m    670\u001b[0m     \u001b[38;5;28;01mexcept\u001b[39;00m timeout:\n\u001b[0;32m    671\u001b[0m         \u001b[38;5;28mself\u001b[39m\u001b[38;5;241m.\u001b[39m_timeout_occurred \u001b[38;5;241m=\u001b[39m \u001b[38;5;28;01mTrue\u001b[39;00m\n",
      "\u001b[1;31mKeyboardInterrupt\u001b[0m: "
     ]
    }
   ],
   "source": [
    "from tqdm import tqdm\n",
    "count,sums=0,0\n",
    "for unit in tqdm(dev_data):\n",
    "    if unit[\"task_type\"]==\"tuple_extract\":\n",
    "    for attr in unit[\"attribute\"]:\n",
    "        sums+=1\n",
    "        if attr in [k[2] for k in search_name.searchAnswer(unit[\"question\"])]:\n",
    "            count+=1"
   ]
  },
  {
   "cell_type": "code",
   "execution_count": 22,
   "id": "41e57754",
   "metadata": {},
   "outputs": [
    {
     "data": {
      "text/plain": [
       "['于丹现象 ||| 人物职业 ||| 北京师范大学教授',\n",
       " '于丹现象 ||| 产生地点 ||| 央视百家讲坛',\n",
       " '于丹现象 ||| 产生原因 ||| 七天解读《论语》心得']"
      ]
     },
     "execution_count": 22,
     "metadata": {},
     "output_type": "execute_result"
    }
   ],
   "source": [
    "unit[\"attribute\"]"
   ]
  },
  {
   "cell_type": "code",
   "execution_count": 14,
   "id": "e14699bd-3025-4c8d-abd3-8290bd3f0fb8",
   "metadata": {
    "scrolled": true,
    "tags": []
   },
   "outputs": [
    {
     "data": {
      "text/plain": [
       "0.1506504406210659"
      ]
     },
     "execution_count": 14,
     "metadata": {},
     "output_type": "execute_result"
    }
   ],
   "source": [
    "count/sums"
   ]
  },
  {
   "cell_type": "code",
   "execution_count": 20,
   "id": "7884acea",
   "metadata": {},
   "outputs": [],
   "source": [
    "result = search_name.searchAnswer(unit[\"question\"])"
   ]
  },
  {
   "cell_type": "code",
   "execution_count": 21,
   "id": "dcab2df4",
   "metadata": {},
   "outputs": [
    {
     "data": {
      "text/plain": [
       "[('26449151', '我是一个不懂倾诉的对象别名', '我是一个不懂倾诉的对象 ||| 别名 ||| 我是一个不懂倾诉的对象'),\n",
       " ('614529', '于丹现象产生原因', '于丹现象 ||| 产生原因 ||| 七天解读《论语》心得'),\n",
       " ('27241571', '这些机会不是属于我的别名', '这些机会不是属于我的 ||| 别名 ||| 这些机会不是属于我的'),\n",
       " ('26449154', '我是一个不懂倾诉的对象歌曲原唱', '我是一个不懂倾诉的对象 ||| 歌曲原唱 ||| 郑嘉颖'),\n",
       " ('27241575', '这些机会不是属于我的填词', '这些机会不是属于我的 ||| 填词 ||| 梁栢坚'),\n",
       " ('27241576', '这些机会不是属于我的谱曲', '这些机会不是属于我的 ||| 谱曲 ||| Michael'),\n",
       " ('614528', '于丹现象产生地点', '于丹现象 ||| 产生地点 ||| 央视百家讲坛'),\n",
       " ('12922723', '这些年我深爱的女孩别名', '这些年我深爱的女孩 ||| 别名 ||| 这些年我深爱的女孩'),\n",
       " ('27241574', '这些机会不是属于我的歌曲原唱', '这些机会不是属于我的 ||| 歌曲原唱 ||| Kolor'),\n",
       " ('21350956', '这是我的人生，不是别人的ISBN', '这是我的人生，不是别人的 ||| ISBN ||| 9787508629766'),\n",
       " ('14780140', '这个女人是我的别名', '这个女人是我的 ||| 别名 ||| 这个女人是我的'),\n",
       " ('21198484', '这些都是我的爱制作人', '这些都是我的爱 ||| 制作人 ||| 莫小滢'),\n",
       " ('12922725', '这些年我深爱的女孩作者', '这些年我深爱的女孩 ||| 作者 ||| 谢言社'),\n",
       " ('26449152', '我是一个不懂倾诉的对象中文名称', '我是一个不懂倾诉的对象 ||| 中文名称 ||| 我是一个不懂倾诉的对象'),\n",
       " ('26449153', '我是一个不懂倾诉的对象所属专辑', '我是一个不懂倾诉的对象 ||| 所属专辑 ||| 郑嘉颖 新歌+精选'),\n",
       " ('26449155', '我是一个不懂倾诉的对象歌曲语言', '我是一个不懂倾诉的对象 ||| 歌曲语言 ||| 粤语'),\n",
       " ('21350954', '这是我的人生，不是别人的别名', '这是我的人生，不是别人的 ||| 别名 ||| 这是我的人生，不是别人的'),\n",
       " ('9416371', '关于我的一些事别名', '关于我的一些事 ||| 别名 ||| 关于我的一些事'),\n",
       " ('3809283', '这是我的一生对白语言', '这是我的一生 ||| 对白语言 ||| 英语'),\n",
       " ('21350955', '这是我的人生，不是别人的书名', '这是我的人生，不是别人的 ||| 书名 ||| 这是我的人生，不是别人的')]"
      ]
     },
     "execution_count": 21,
     "metadata": {},
     "output_type": "execute_result"
    }
   ],
   "source": [
    "result"
   ]
  },
  {
   "cell_type": "code",
   "execution_count": 8,
   "id": "8ae06ae2-52f2-44c4-b72d-61d10f9093b8",
   "metadata": {
    "tags": []
   },
   "outputs": [],
   "source": [
    "err=0\n",
    "for unit in train_data:\n",
    "    for attr in unit[\"attribute\"]:\n",
    "        \n",
    "        if attr not in [k[1] for k in unit[\"top20\"]]:\n",
    "            err+=1\n",
    "            break"
   ]
  },
  {
   "cell_type": "code",
   "execution_count": 9,
   "id": "cc62a1da-1a84-4272-ad23-a98c422af49d",
   "metadata": {
    "tags": []
   },
   "outputs": [
    {
     "data": {
      "text/plain": [
       "(683, 1000)"
      ]
     },
     "execution_count": 9,
     "metadata": {},
     "output_type": "execute_result"
    }
   ],
   "source": [
    "err,len(train_data)"
   ]
  },
  {
   "cell_type": "code",
   "execution_count": 10,
   "id": "716e6aa9-0958-4f0b-b771-5aecf01c3bf6",
   "metadata": {
    "tags": []
   },
   "outputs": [
    {
     "data": {
      "text/plain": [
       "0.31699999999999995"
      ]
     },
     "execution_count": 10,
     "metadata": {},
     "output_type": "execute_result"
    }
   ],
   "source": [
    "1-err/len(train_data)"
   ]
  },
  {
   "cell_type": "code",
   "execution_count": 11,
   "id": "af5a33ec-a814-4284-9c1d-0c1a7b27e78b",
   "metadata": {
    "tags": []
   },
   "outputs": [
    {
     "data": {
      "text/plain": [
       "{'id': 'TR002899',\n",
       " 'question': '近些年，我非常关注于丹现象。我对这种深入传统，大众化宣传的方式深感兴趣。但我对于丹详细的个人信息了解不多，特别是他的个人职业，现象的产生地点，以及产生原因等等，您能告诉我一下这些信息ma？',\n",
       " 'attribute': ['于丹现象 ||| 人物职业 ||| 北京师范大学教授',\n",
       "  '于丹现象 ||| 产生地点 ||| 央视百家讲坛',\n",
       "  '于丹现象 ||| 产生原因 ||| 七天解读《论语》心得'],\n",
       " 'top20': [['26449151', '我是一个不懂倾诉的对象 ||| 别名 ||| 我是一个不懂倾诉的对象'],\n",
       "  ['27241571', '这些机会不是属于我的 ||| 别名 ||| 这些机会不是属于我的'],\n",
       "  ['26449152', '我是一个不懂倾诉的对象 ||| 中文名称 ||| 我是一个不懂倾诉的对象'],\n",
       "  ['12922723', '这些年我深爱的女孩 ||| 别名 ||| 这些年我深爱的女孩'],\n",
       "  ['27241572', '这些机会不是属于我的 ||| 单曲名称 ||| 这些机会不是属于我的'],\n",
       "  ['12922724', '这些年我深爱的女孩 ||| 中文名 ||| 这些年我深爱的女孩'],\n",
       "  ['14780140', '这个女人是我的 ||| 别名 ||| 这个女人是我的'],\n",
       "  ['21198481', '这些都是我的爱 ||| 别名 ||| 这些都是我的爱'],\n",
       "  ['9416371', '关于我的一些事 ||| 别名 ||| 关于我的一些事'],\n",
       "  ['12928294', '对于他，这是个不能说的秘密 ||| 别名 ||| 对于他，这是个不能说的秘密'],\n",
       "  ['30246526', '僵尸员工 ||| 产生原因 ||| 产生这种现象的原因是多'],\n",
       "  ['19435548', '我就是这样的一个人 ||| 别名 ||| 我就是这样的一个人'],\n",
       "  ['21350954', '这是我的人生，不是别人的 ||| 别名 ||| 这是我的人生，不是别人的'],\n",
       "  ['21350955', '这是我的人生，不是别人的 ||| 书名 ||| 这是我的人生，不是别人的'],\n",
       "  ['14780141', '这个女人是我的 ||| 中文名 ||| 这个女人是我的'],\n",
       "  ['12760493', '唐阳茹 ||| 代表作品 ||| 《这是我给你的321封情书》、《我终于相信我现在是一个人了》'],\n",
       "  ['4362319', '我这个你不爱的人 ||| 别名 ||| 我这个你不爱的人'],\n",
       "  ['12928295', '对于他，这是个不能说的秘密 ||| 中文名 ||| 对于他,这是个不能说的秘密'],\n",
       "  ['27583889', '这些年，我们一起追的男人 ||| 别名 ||| 这些年，我们一起追的男人'],\n",
       "  ['9416372', '关于我的一些事 ||| 中文名 ||| 关于我的一些事']]}"
      ]
     },
     "execution_count": 11,
     "metadata": {},
     "output_type": "execute_result"
    }
   ],
   "source": [
    "unit"
   ]
  },
  {
   "cell_type": "code",
   "execution_count": 87,
   "id": "5cd17358-f12d-432c-8b3c-6415c558b2d6",
   "metadata": {},
   "outputs": [],
   "source": [
    "# v2 test\n",
    "import json\n",
    "from tqdm import tqdm\n",
    "train = json.loads( open(\"../result/es召回测试_v2.json\", encoding=\"utf8\").read())"
   ]
  },
  {
   "cell_type": "code",
   "execution_count": 88,
   "id": "da5f5f61",
   "metadata": {},
   "outputs": [
    {
     "name": "stderr",
     "output_type": "stream",
     "text": [
      "100%|████████████████████████████████████████████████████████████████████████████████| 164/164 [00:09<00:00, 17.16it/s]\n"
     ]
    }
   ],
   "source": [
    "for unit in tqdm(train):\n",
    "    tuple_=train[unit][\"tuple_predict\"]\n",
    "    train[unit][\"es_top20\"]=[k[2] for k in search_name.searchAnswer(tuple_)]"
   ]
  },
  {
   "cell_type": "code",
   "execution_count": 89,
   "id": "4bd0e4c1",
   "metadata": {
    "scrolled": true
   },
   "outputs": [
    {
     "name": "stdout",
     "output_type": "stream",
     "text": [
      "葛珊珊 ||| 赵本山徒弟 ||| 超本山收下的第五批徒弟 ===== ['葛珊珊 ||| 生肖 ||| 猪', '葛珊珊 ||| 丈夫 ||| 历小峰', '葛珊珊 ||| 籍贯 ||| 吉林省德惠市', '葛珊珊 ||| 师傅 ||| 赵本山', '葛珊珊 ||| 国籍 ||| 中国', '葛珊珊 ||| 星座 ||| 狮子座', '葛珊珊 ||| 血型 ||| O', '葛珊珊 ||| 民族 ||| 汉族', '葛珊珊 ||| 职业 ||| 二人转演员 电视演员', '葛珊珊 ||| 别名 ||| 葛珊珊', '葛珊珊 ||| 性别 ||| 女', '葛珊珊 ||| 出生地 ||| 吉林省德惠市', '葛珊珊 ||| 经纪公司 ||| 本山传媒', '葛珊珊 ||| 中文名 ||| 葛珊珊', '葛珊珊 ||| 英文名 ||| GeShanShan', '葛珊珊 ||| 出生日期 ||| 1983年8月17日', '葛珊珊 ||| 家庭成员 ||| 历小峰（丈夫）', '葛珊珊 ||| 签约公司 ||| 本山传媒', '葛珊珊 ||| 主要成就 ||| 赵本山老师的第五批徒弟', '葛珊珊 ||| 代表作品 ||| 乡村爱情'] \n",
      "\n",
      "三上枝织 ||| 中文名 ||| 三上枝织 ===== ['三上枝织 ||| 所属团体 ||| 七森中☆娱乐部', '三上枝织 ||| 毕业院校 ||| 东京广播学院', '三上枝织 ||| 经纪公司 ||| 青二Production', '三上枝织 ||| 代表作品 ||| 《摇曳百合》赤座灯里', '三上枝织 ||| 职业 ||| 声优', '三上枝织 ||| 职 业 ||| 声优', '三上枝织 ||| 出生 ||| 1989年1月6日 （25岁） \\xa0日本青森县', '三上枝织 ||| 出道作品 ||| 女学生（守护甜心）', '三上枝织 ||| 出道时间 ||| 2008年', '三上枝织 ||| 民族 ||| 大和', '三上枝织 ||| 国籍 ||| 日本', '三上枝织 ||| 星座 ||| 摩羯座', '三上枝织 ||| 身高 ||| 160cm', '三上枝织 ||| 奖项 ||| 第6届声优奖“新人女优赏”', '三上枝织 ||| 别名 ||| 三上枝织', '三上枝织 ||| 血型 ||| O型', '三上枝织 ||| 性别 ||| 女', '三上枝织 ||| 身 高 ||| 160cm', '三上枝织 ||| 血 型 ||| O型', '三上枝织 ||| 昵称 ||| しおりん'] \n",
      "\n",
      "Mr.3 ||| 所属 ||| 原B.W社成员 ===== ['Mr.3 ||| 所 属 ||| 原B.W社成员', 'Mr.3 ||| 所属作品 ||| 海贼王', 'Dear Mr. President ||| 所属公司 ||| SONY&BMG', 'Mr Cool ||| 公 司 ||| Music Nation', 'Mr.5 ||| 所属作品 ||| 日本动漫《海贼王》', 'Mr. Y ||| 所属专辑 ||| 《写给自己的歌》', 'Mr.3 ||| 别名 ||| Mr.3', 'Mr.3 ||| 姓名 ||| Mr.3', 'Mr.3 ||| 国籍 ||| 日本', 'Mr.3 ||| 克 星 ||| 麦哲伦', 'Mr.3 ||| 作者 ||| 尾田荣一郎', 'Mr.3 ||| 爱好 ||| 大吉岭红茶', 'Mr.3 ||| 搭 档 ||| Miss.黄金周', 'Mr.3 ||| 声 优 ||| 桧山修之', '大可乐3 ||| 所属公司 ||| 云辰科技', 'Nike Zoom Soldier 3 ||| 所属公司 ||| Nike', 'Mr.3 ||| 性别 ||| 男', 'Mr.3 ||| 职 业 ||| 高级特工', 'Mr. ||| 唱片公司 ||| 新艺宝唱片', \"Dear Mr. President ||| 所属专辑 ||| 《I'M Not Dead》\"] \n",
      "\n",
      "原子鏸 ||| 活跃年代 ||| 1999年至今 ===== ['原子鏸 ||| 身高 ||| 174厘米', '原子鏸 ||| 出生 ||| 1978年3月7日（36岁） \\xa0美国', '原子鏸 ||| 语言 ||| 国语、粤语、英语', '原子鏸 ||| 体重 ||| 55.5公斤', '原子鏸 ||| 出生地 ||| 美国', '原子鏸 ||| 国籍 ||| 美国', '原子鏸 ||| 职业 ||| 演员、歌手、舞蹈教师', '原子鏸 ||| 性别 ||| 女', '原子鏸 ||| 国 籍 ||| 美国', '原子鏸 ||| 出道地点 ||| 香港', '原子鏸 ||| 别名 ||| 原子鏸', '原子鏸 ||| 母亲 ||| 香港著名武打女星---郑佩佩', '原子鏸 ||| 别 名 ||| 原子惠', '原子鏸 ||| 出生日期 ||| 1977年3月7日', '原子鏸 ||| 星座 ||| 双鱼座', '原子鏸 ||| 职 业 ||| 演员、歌手、舞蹈教师', '原子鏸 ||| 中文名 ||| 原子鏸', '原子鏸 ||| 英文名 ||| Marsha Yuan', '原子鏸 ||| 外文名 ||| Marsha Yuan', '原子鏸 ||| 代表作 ||| 百老汇音乐剧《42街》'] \n",
      "\n",
      "温实初 ||| 暗恋对象 ||| 甄嬛 ===== ['喻初原 ||| 喜欢的人 ||| 戚百草', '乃木坂初佳 ||| 喜欢的人 ||| 春日野悠', '温蒂·玛贝尔 ||| 喜欢的人 ||| 纳兹（官方小说有提及）', '张静初 ||| 喜欢的书 ||| 《荒野侦探》、《卫斯理与白素》', '温实初 ||| 恋人 ||| 沈眉庄', 'seto ||| 喜欢的人 ||| 小樱茉莉', 'ARIA ||| 喜欢的人 ||| 远山金次', '篱 ||| 喜欢的人 ||| 犬夜叉（详见朔月犬夜叉词条）', '初喜欢 ||| 别名 ||| 初喜欢', '初喜欢 ||| 作者 ||| 小土豆有花华', '刘航初 ||| 喜欢的歌手 ||| 张杰', '张静初 ||| 喜欢的颜色 ||| 白、粉、蓝、黄、紫', '张静初 ||| 喜欢的菜肴 ||| 水煮鱼、永安芋包', '张静初 ||| 喜欢的城市 ||| 永安、普罗旺斯、奥兰多、蒙特利尔、奥克兰、吉隆坡', '张静初 ||| 喜欢的歌手 ||| 麦当娜(Madonna)', '温珊珊 ||| 喜欢的食物 ||| 只要是好吃的都喜欢', '温珊珊 ||| 喜欢的水果 ||| 猕猴桃', '温兆伦 ||| 喜欢的歌手 ||| 玉置浩二、Michael Jackson、张学友', '温兆伦 ||| 最喜欢的书 ||| 汽车杂志、文学、爱情小说', '温兆伦 ||| 喜欢的礼物 ||| 收集本欣赏'] \n",
      "\n",
      "邢珊 ||| 身高 ||| 168cm ===== ['女演员 ||| 中文名 ||| 女演员', '女演员舞 ||| 中文名 ||| 女演员舞', '《女演员们》 ||| 中文名 ||| 《女演员们》', '女演员们 ||| 中文名 ||| 女演员们', '王奕(女演员) ||| 中文名 ||| 王奕', '女演员舞会 ||| 中文名 ||| 女演员舞会', '丁谦(女演员) ||| 中文名 ||| 丁谦', '陈薇(女演员) ||| 中文名 ||| 陈薇', '笑笑(女演员) ||| 中文名 ||| 笑笑', '杨亚(女演员) ||| 中文名 ||| 沈斌杰', '吴越(女演员) ||| 中文名 ||| 吴越', '林青(女演员) ||| 中文名 ||| 林青', '钟情(女演员) ||| 中文名 ||| 钟情', '悲情女演员 ||| 中文名 ||| 悲情女演员', '孙宁(女演员) ||| 中文名 ||| 孙宁', '林鹏(女演员) ||| 中文名 ||| 林鹏', '王珂(女演员) ||| 中文名 ||| 王珂', '李颖(女演员) ||| 中文名 ||| 李颖', '孙杨(女演员) ||| 中文名 ||| 孙杨', '方飞(女演员) ||| 中文名 ||| 方飞'] \n",
      "\n",
      "桂格 ||| 年份 ||| 1901年 ===== ['桂月红 ||| 出生年月 ||| 1958年2月', '张月桂 ||| 出生年月 ||| 1917年3月', '桂木桂马 ||| 出生年月 ||| 6月6日', '齐桂年 ||| 出生年月 ||| 1956年12月', '彭桂 ||| 出生年月 ||| 1903年', '桂坫 ||| 出生年月 ||| 1867年', '桂晶 ||| 出生年月 ||| 1986年8月26日', '尹桂 ||| 出生年月 ||| 1964年12月', '桂馥 ||| 出生年月 ||| 1736年', '茹桂 ||| 出生年月 ||| 1936年', '叶桂 ||| 出生年月 ||| 1667年', '桂律 ||| 出生年月 ||| 1965年3月', '楠桂 ||| 出生年月 ||| 1966年3月23日', '罗桂生 ||| 出生年月 ||| 1945年9月', '袁桂生 ||| 出生年月 ||| 1954年8月', '张桂生 ||| 出生年月 ||| 1944年', '黄桂生 ||| 出生年月 ||| 1955年3月', '钱桂生 ||| 出生年月 ||| 1945年12月', '桂冬生 ||| 出生年月 ||| 1944年10月', '杨桂生 ||| 出生年月 ||| 1967年1月'] \n",
      "\n",
      "柳真 ||| 中文名 ||| 金柳真（韩名：金楢真） ===== ['柳真 ||| 柳真 ||| 柳真现身在2011年Metrocity时尚秀', '柳真 ||| 喜欢的花 ||| 向日葵、玫瑰、满天星', '柳真 ||| 理想的对象 ||| 有颗温暖的心，在意她，具野心且对订立的目标必定会去完成。', '柳真 ||| 梦想 ||| 钢琴家、设计师、歌手、演员、模特儿', '柳真 ||| 身高 ||| 160CM', '真柳 ||| 身高 ||| 180cm', '柳真 ||| 体重 ||| 47Kg', '柳真 ||| 专长 ||| 运动、素描、画图、弹钢琴', '柳真 ||| 个性 ||| 开朗明亮。刚认识时她会表现得很安静，不过认识後她就会变得很多话', '柳真 ||| 喜欢的服饰 ||| 牛仔', '柳真 ||| 喜欢的食物 ||| 意大利面、寿司', '柳真 ||| 喜欢的零食 ||| 冰淇淋、巧克力雪糕', '柳真 ||| 喜欢的音乐 ||| 让人轻松的音乐、S.E.S.的歌', '柳真 ||| 出生 ||| 1981年3月3日（33岁） \\xa0韩国首尔特别市', '柳真 ||| 国籍 ||| 韩国', '柳真 ||| 宗教信仰 ||| 基督教', '柳真 ||| 性别 ||| 女', '柳真 ||| 出道年份 ||| 1997年11月28日', '柳真 ||| 出生地 ||| 韩国', '真柳 ||| 生日 ||| 5月21日'] \n",
      "\n",
      "钟汉良 ||| 喜欢的植物 ||| 蒲公英、伦敦海德公园的大树 ===== ['钟汉良 ||| 最喜爱的运动 ||| 网球', '钟汉良 ||| 爱好 ||| 网球、跑步、摄影、玩计算机剪接及绘图软件', '王佳佳 ||| 最爱花卉 ||| 郁金香、向日葵', '钟汉良 ||| 最大的梦想 ||| 以原始的方式环游世界', '钟汉良 ||| 最好的朋友 ||| 小志（林志颖）', '钟汉良 ||| 最讨厌的事 ||| 无意识的听到某个地方发生了可怕的天灾人祸', '钟汉良 ||| 最尴尬的事 ||| 第一次在电视上看见自己', '钟汉良 ||| 最难忘的事 ||| 离乡背景一个人搬到台湾发展演艺事业。', '胡定欣 ||| 最喜爱花卉 ||| 郁金香', '酒井法子 ||| 最爱花卉 ||| 郁金香、', '钟汉良 ||| 喜爱的食物 ||| 妈妈做的菜', '钟汉良 ||| 最害怕的东西 ||| 蟑螂小强', '钟汉良 ||| 最喜欢的动物 ||| 老虎、马、狗', '蒋勤勤 ||| 最喜爱的花卉 ||| 郁金香', '钟鼎花卉 ||| 别名 ||| 钟鼎花卉', '钟鼎花卉 ||| 时间 ||| 晚清', '钟鼎花卉 ||| 特点 ||| 高度写实', '钟鼎花卉 ||| 作者 ||| 黄士陵', '最是精彩 ||| 钟汉良／精选辑 ||| 2000年5月2日', '钟汉良 ||| 身高 ||| 183cm'] \n",
      "\n",
      "赵赫 ||| 主要成就 ||| 中国播音主持“金话筒奖” ===== ['赵赫 ||| 代表作品 ||| 《北京市民谈大白菜供应》、《北京友谊商店外汇黑市猖獗》', '赵文赫 ||| 代表作品 ||| 《武则天秘史》《太平公主秘史》', '赵东赫 ||| 代表作品 ||| 夜叉，Brain,英宰的全盛时代，爱也好恨也好', '赵赵 ||| 代表作品 ||| 《命犯桃花》《花不棱登》《内衣》', '赫雷 ||| 代表作品 ||| 《英雄瓦氏》、《嘻哈校园》、《美男计》等', '陈赫 ||| 代表作品 ||| 《爱情公寓》系列', '德赫 ||| 代表作品 ||| 哈利波特', '赫亮 ||| 代表作品 ||| 《管理软件程序设计方法》', '权赫 ||| 代表作品 ||| 《兰花指》、《忘记你太难》等', '科赫 ||| 代表作品 ||| 《创伤感染之病原》、《论结核病病原》、《论霍乱》、《热带病之医学观察》', '方赫 ||| 代表作品 ||| 《缤纷大地》，大型画册《九寨沟》、《四川》(撰文)等，编著长诗《我的幺表妹》、《妈妈的女儿》等民族民间文艺丛书十部。', '朱赫 ||| 代表作品 ||| 《山色青青》', '赫顿 ||| 代表作品 ||| 《赫顿地球理论说明》', '布赫 ||| 代表作品 ||| 《慰问袋》', '成赫 ||| 代表作品 ||| 《百年的新娘》，《来了！张宝利》[3]', '赫柏 ||| 代表作品 ||| 古希腊神话', '徐赫 ||| 代表作品 ||| “墨说”系列评论文章', '张赫 ||| 代表作品 ||| 《野蛮师姐》', '巴赫 ||| 代表作品 ||| 《勃兰登堡协奏曲》，《马太受难曲》，《b小调弥撒曲》等', '赫胥 ||| 代表作品 ||| 《犯罪之原因》'] \n",
      "\n",
      "纪培慧 ||| 互联网电影数据库（IMDb）信息 ||| 2008年：《九降风》 2009年：《爸…你好吗？》 2009年：《台北飘雪》 ===== ['纪培慧 ||| 网站 ||| Teresa Daley 纪培慧 (Official) Facebook 纪培慧 新浪微博', '纪培慧 ||| 活跃年代 ||| 2000年代至今', '纪培慧 ||| 电视剧 ||| 2006年：《危险心灵》 2007年：《美味关系》 2010年：《他们在毕业的前一天爆炸》', '纪培慧 ||| 书籍 ||| 2008年：《九降风》电影小说', '纪培慧 ||| 经纪公司 ||| 彦恩国际经纪事业股份有限公司', '纪培慧 ||| 籍贯 ||| 中国', '纪培慧 ||| 国籍 ||| 中国', '纪培慧 ||| 民族 ||| 中美混血', '纪培慧 ||| 身高 ||| 160厘米', '纪培慧 ||| 星座 ||| 双子座', '纪培慧 ||| 血统 ||| 中美混血儿', '纪培慧 ||| 血型 ||| O型', '纪培慧 ||| 职业 ||| 学生，演员', '纪培慧 ||| 性别 ||| 女', '纪培慧 ||| 昵称 ||| 培培', '纪培慧 ||| 出生 ||| 1989年06月01日（25岁） \\xa0美国', '纪培慧 ||| 奖项 ||| 迷你剧集／电视电影女配角奖 – 电视金钟奖 2011年 《他们在毕业的前一天爆炸》 – 林筱柔', '纪培慧 ||| 别名 ||| 纪培慧', '纪培慧 ||| 体重 ||| 45公斤', '纪培慧 ||| 中文名 ||| 纪培慧'] \n",
      "\n",
      "吉列尔莫·奥乔亚 ||| 专业特点 ||| 门将 ===== ['吉列尔莫·奥乔亚 ||| 2014- ||| 0', '吉列尔莫·奥乔亚 ||| 2005- ||| 63', '吉列尔莫·奥乔亚 ||| 体重 ||| 72公斤', '吉列尔莫·奥乔亚 ||| 身高 ||| 185CM', '吉列尔莫·奥乔亚 ||| 位置 ||| 守门员', '吉列尔莫·奥乔亚 ||| 国籍 ||| 墨西哥', '吉列尔莫·奥乔亚 ||| 2011-2014 ||| 112', '吉列尔莫·奥乔亚 ||| 昵称 ||| Memo Paco 墨西哥吴镇宇（香港地区） 墨西哥Sam哥（香港地区） 墨Sam哥（香港地区） 米老鼠（台湾地区）', '吉列尔莫·奥乔亚 ||| 2004-2011 ||| 201', '吉列尔莫·奥乔亚 ||| 别名 ||| 吉列尔莫·奥乔亚', '吉列尔莫·奥乔亚 ||| 绰号 ||| 六指门神', '吉列尔莫·奥乔亚 ||| 场上位置 ||| 门将', '吉列尔莫·奥乔亚 ||| 国家队‡ ||| 6', '吉列尔莫·奥乔亚 ||| 出生地 ||| 瓜达拉哈拉', '吉列尔莫·奥乔亚 ||| 所属运动队 ||| 马拉加足球俱乐部', '吉列尔莫·奥乔亚 ||| 出生日期 ||| 1985-07-13', '吉列尔莫·奥乔亚 ||| 出生地点 ||| 墨西哥瓜达拉哈拉', '吉列尔莫·奥乔亚 ||| 外文名 ||| Francisco Guillermo Ochoa Magana', '吉列尔莫·奥乔亚 ||| 中文名 ||| 弗朗西斯科·吉列尔莫·奥乔亚·马加纳', '吉列尔莫·奥乔亚 ||| 运动状态 ||| 现役球员'] \n",
      "\n",
      "秦悼公 ||| 逝世日期 ||| 前477年 ===== ['秦悼公 ||| 秦悼公 ||| 嬴', '思悼 ||| 其它译名 ||| 思悼：8天的记忆', '秦悼公 ||| 父 ||| 秦惠公', '秦悼公 ||| 谥号 ||| 悼公', '秦悼公 ||| 国家 ||| 秦国', '秦悼公 ||| 民族 ||| 汉', '秦悼公 ||| 身份 ||| 秦国君主', '秦悼公 ||| 别名 ||| 秦悼公', '秦悼公 ||| 国籍 ||| 秦国', '秦悼公 ||| 职业 ||| 秦国君主', '秦悼公 ||| 子女 ||| 秦厉共公', '秦悼公 ||| 太子 ||| 秦厉共公', '秦悼公 ||| 都城 ||| 雍城', '秦悼公 ||| 墓葬 ||| 丘里景公西', '秦悼公 ||| 时代 ||| 春秋', '秦悼公 ||| 中文名 ||| 秦悼公', '秦悼公 ||| 出生地 ||| 雍', '征服 ||| 其它译名 ||| 获奖 荣誉', '晕征 ||| 其它含义 ||| 磨玻璃影围绕结节肿块的CT 表现', '秦悼公 ||| 主要成就 ||| 筑都城雍'] \n",
      "\n",
      "忍者神龟2012Raphael ||| 瞳孔色 ||| 石灰绿 ===== ['黑色眼睛 ||| 频道 ||| 香港商业电台叱咤903', '黑色眼睛 ||| 主持 ||| EKEE', '黑色眼睛 ||| 别名 ||| 黑色眼睛', '黑色眼睛 ||| 类型 ||| 音乐节目', '黑色眼睛 ||| 格式 ||| 立体声', '黑色眼睛 ||| 语言 ||| 粤语', '黑色眼睛 ||| 网址 ||| [1]', '蓝眼睛黑眼睛 ||| ISBN ||| 9787505919846', '黑眼睛(中国首部音乐小说微电影《黑眼睛》) ||| 色彩 ||| 彩色', '黑色眼睛 ||| 片头曲 ||| 藤田惠美 - The End Of The World', '黑色眼睛 ||| 录制地 ||| 香港商业电台', '黑色眼睛 ||| 外文名 ||| The end of world', '黑色眼睛 ||| 中文名 ||| 黑色眼睛', '黑色眼睛 ||| 主持人 ||| EKEE', '黑色眼睛 ||| 主题曲 ||| 周国贤 - 目黑', '蓝眼睛黑眼睛 ||| 定价 ||| 24.6', '蓝眼睛黑眼睛 ||| 作者 ||| 马瑞芳', '蓝眼睛黑眼睛 ||| 页数 ||| 539', '蓝眼睛黑眼睛 ||| 别名 ||| 蓝眼睛黑眼睛', '黑色眼睛 ||| 播出日期 ||| 2009年3月2日 至\\xa03月10日 2009年4月5日 2009年8月28日'] \n",
      "\n",
      "曾李青 ||| 母校 ||| 西安电子科技大学 ===== ['曾李青 ||| 毕业院校 ||| 西安电子科技大学', '曾葆青 ||| 毕业院校 ||| 电子科技大学', '曾小青 ||| 毕业院校 ||| 厦门大学管理学（会计学），清华大学工商管理（会计学）', '李维曾 ||| 毕业院校 ||| 山西医学院医疗系', '李希曾 ||| 毕业院校 ||| 北洋大学', '李和曾 ||| 毕业院校 ||| 中华戏曲专科学校', '李绮曾 ||| 毕业院校 ||| 北京大学法律学系', '李继曾 ||| 毕业院校 ||| 山东师院中文系', '李曾中 ||| 毕业院校 ||| 北京大学地球物理系', '李曾明 ||| 毕业院校 ||| 华中师范大学', '李寿曾 ||| 毕业院校 ||| 天津音乐学院', '曾曾 ||| 毕业院校 ||| 北京电影学院', '李叶青 ||| 毕业院校 ||| 湖南师范大学树达学院', '李隽青 ||| 毕业院校 ||| 上海大同大学', '李艾青 ||| 毕业院校 ||| 山西省临汾市鼓乐艺术学校', '李青艾 ||| 毕业院校 ||| 河北美术学院', '李哥青 ||| 毕业院校 ||| 成都气象学院；兰州大学', '李衍青 ||| 毕业院校 ||| 黄河水利学校', '李青燕 ||| 毕业院校 ||| 中国矿业大学', '李青儿 ||| 毕业院校 ||| 汉阳大学戏剧电影专业'] \n",
      "\n",
      "关悦 ||| 代表作品 ||| 神探狄仁杰3 ===== ['关悦 ||| 喜欢休闲方式 ||| 旅游', '关悦 ||| 丈夫 ||| 佟大为', '关悦 ||| 籍贯 ||| 吉林长春', '关悦 ||| 身高 ||| 166CM', '关悦 ||| 最喜欢的地方 ||| 有水的地方', '关悦 ||| 影视作品 ||| 《火星宝贝之火星没事 》', '关悦 ||| 最喜欢的饰品 ||| 水晶', '关悦 ||| 国籍 ||| 中国大陆', '关悦 ||| 出生地 ||| 吉林省长春市', '关悦 ||| 生肖 ||| 羊', '关悦 ||| 最喜欢的运动 ||| 游泳，跑步', '关悦 ||| 最爱吃的零食 ||| 巧克力、芒果，葡萄和梨', '关悦 ||| 瘦身饮食 ||| oslim90植物和蔬果', '关悦 ||| 民族 ||| 满族', '关悦 ||| 体重 ||| 47KG', '关悦 ||| 血型 ||| B型', '关悦 ||| 性别 ||| 女', '关悦 ||| 别名 ||| 关悦', '关悦 ||| 星座 ||| 双鱼座', '关悦 ||| 职业 ||| 歌手，演员'] \n",
      "\n",
      "宁丹琳 ||| 教育经历 ||| 2001年就读于纽约百老汇街艺术学院  2002年就读于密歇根州WCSPA ===== ['宁丹琳 ||| 最大的愿望 ||| 成为杰出的艺人', '宁丹琳 ||| 最满意的部分 ||| 眼睛、鼻子', '宁丹琳 ||| 最喜欢的演员 ||| 周润发、玛丽莲.梦露', '宁丹琳 ||| 喜欢的颜色 ||| 红色、黑色', '宁丹琳 ||| 体重 ||| 46kg', '宁丹琳 ||| 家庭成员 ||| 父亲、母亲', '宁丹琳 ||| 教育程度 ||| 密歇根州WCSPA', '宁丹琳 ||| 宗教 ||| 佛教', '宁丹琳 ||| 喜欢的歌手 ||| Celine、Dion,、Britney、Spears', '宁丹琳 ||| 出生 ||| 1987年3月23日（27岁） \\xa0中国北京', '宁丹琳 ||| 籍贯 ||| 北京市', '宁丹琳 ||| 网站 ||| 个人博客[1]', '宁丹琳 ||| 民族 ||| 满族', '宁丹琳 ||| 星座 ||| 白羊座', '宁丹琳 ||| 职业 ||| 演员', '宁丹琳 ||| 性别 ||| 女', '宁丹琳 ||| 语言 ||| 普通话、英语、韩语', '宁丹琳 ||| 别名 ||| 宁丹琳', '宁丹琳 ||| 国籍 ||| 中国', '宁丹琳 ||| 血型 ||| O'] \n",
      "\n",
      "魏晨 ||| 出道日期 ||| 2007年7月13日 ===== ['魏晨 ||| 喜爱的食物 ||| 兰州拉面、海鲜、梅菜扣肉', '魏晨 ||| 喜爱的动物 ||| 狗', '魏晨 ||| 喜爱的颜色 ||| 黑、白、橙色', '魏晨 ||| 签约公司 ||| 天娱传媒', '魏晨 ||| 乐器 ||| 钢琴、葫芦丝、吉他、埙', '魏晨 ||| 出生 ||| 1986年2月22日（28岁）', '魏晨 ||| 音乐成就 ||| 2007年快乐男声全国季军、亚洲音乐节亚洲最佳歌手大奖、musicradio内地最受欢迎唱片、musicradio内地最受欢迎男歌手、音乐v榜内地最佳男歌手、劲歌王金曲金榜内地青年杰出歌手、全球华语榜中榜先锋歌手', '魏晨 ||| 音乐专辑 ||| 《乐天派》、《千方百计》、《破晓》、《V space》、《登封造极》、《帽子戏法》', '魏晨 ||| 音乐类型 ||| 华语流行音乐', '魏晨 ||| 别名 ||| 魏晨', '魏晨 ||| 民族 ||| 汉族', '魏晨 ||| 职业 ||| 歌手、演员、主持人', '魏晨 ||| 优点 ||| 多才多艺；绝不放弃', '魏晨 ||| 籍贯 ||| 甘肃兰州', '魏晨 ||| 缺点 ||| 太过倔强；太过执着', '魏晨 ||| 身高 ||| 183.5cm', '魏晨 ||| 血型 ||| O型', '魏晨 ||| \\u200b高中 ||| 甘肃兰州兰炼一中高（6）班', '魏晨 ||| 书籍 ||| 2008年《Lomo 森林》  2013年《我不是谁的偶像》（《IDOI BY MY WAY》）', '魏晨 ||| 星座 ||| 双鱼座'] \n",
      "\n",
      "高士廉 ||| 去世时间 ||| 647年2月14日 ===== ['高士廉 ||| 出生年月 ||| 公元575年', '高士廉 ||| 去世年月 ||| 公元647年', '高士廉 ||| 出生地 ||| 渤海蓨县', '高士廉 ||| 职业 ||| 北齐宗室之后、唐朝宰相', '高士廉 ||| 职 业 ||| 唐代开国功臣、政治家', '高士廉 ||| 官职 ||| 尚书右仆射、太子太傅', '高士廉 ||| 国 籍 ||| 中国(唐朝)', '高士廉 ||| 籍贯 ||| 渤海蓨', '高士廉 ||| 籍 贯 ||| 渤海高氏', '高士廉 ||| 国籍 ||| 中国', '高士廉 ||| 主要作品 ||| 《氏族志》', '高士廉 ||| 主要成就 ||| 主持编撰《氏族志》，图像凌烟阁', '高士廉 ||| 出生时间 ||| 575年', '高士廉 ||| 出生日期 ||| 575年', '高士廉 ||| 逝世日期 ||| 647年2月14日', '高士廉 ||| 侄 女 ||| 长孙皇后', '高士廉 ||| 字号 ||| 字士廉', '高士廉 ||| 别 名 ||| 高士廉', '高士廉 ||| 谥 号 ||| 文献', '高士廉 ||| 本名 ||| 高俭'] \n",
      "\n",
      "挪威邮政 ||| 标语口号 ||| oss mennesker imellom\\ ===== ['挪威邮政 ||| 标语口号 ||| \"oss mennesker imellom\\\\', '挪威邮政 ||| 国籍 ||| 挪威', '挪威邮政 ||| 别名 ||| 挪威邮政', '挪威邮政 ||| 时间 ||| 1647年', '挪威邮政 ||| 成立 ||| 1647年', '挪威邮政 ||| 网址 ||| www.posten.no', '挪威邮政 ||| 产品 ||| 邮政', '挪威行政区划 ||| 外语 ||| Kongeriket', '挪威邮政 ||| 外文名 ||| Posten Norge BA', '挪威邮政 ||| 创办人 ||| Henrik Morian', '挪威邮政 ||| 营业额 ||| NOK 19,995 million (2005)', '挪威邮政 ||| 子公司 ||| ErgoGroup Nor-Cargo Frigoscandia Box CityMail Pan Nordic Logistics', '挪威邮政 ||| 中文名 ||| 挪威邮政', '挪威邮政 ||| 母公司 ||| 挪威交通与通信部', '挪威俄语 ||| 挪威俄语 ||| 挪威、俄罗斯', '挪威邮政 ||| 员工人数 ||| 20,500', '挪威邮政 ||| 代表人物 ||| Dag Mejdell (CEO) Arvid Moss (Chairman)', '挪威邮政 ||| 公司类型 ||| 国有公司', '挪威邮政 ||| 总部地点 ||| 奥斯陆', '挪威银行 ||| 挪威银行 挪威银行 Norges Bank ||| 挪威银行 挪威银行 Norges Bank'] \n",
      "\n",
      "蔡希德 ||| 人物身份 ||| 安史之乱时史思明手下部将 ===== ['蔡希德 ||| 职业 ||| 军事 将领', '蔡希周 ||| 职业 ||| 诗人', '蔡京希 ||| 职业 ||| 经济师', '蔡哲希 ||| 职业 ||| 艺人 舞蹈教官 珠宝鉴定师', '蔡希贤 ||| 职业 ||| 教授', '蔡希综 ||| 职业 ||| 唐代书法家', '蔡希邠 ||| 职业 ||| 广西按察使，湖南按察使', '蔡希尧 ||| 职业 ||| 信息技术专家，西安电子科技大学教授博导', '蔡希陶 ||| 职业 ||| 植物学家', '蔡希岗 ||| 职业 ||| 山东省轻工工程学校正处级调研员', '蔡希有 ||| 职业 ||| 央企高管[2]', '蔡义德 ||| 职业 ||| 歌手', '蔡德文 ||| 职业 ||| 医学博士、教授、博士研究生导师', '蔡仰德 ||| 职业 ||| 律师', '蔡怀德 ||| 职业 ||| 成都天御文化传播公司创始人', '蔡德辉 ||| 职业 ||| 银行经济师', '蔡明德 ||| 职业 ||| 教育 教师', '蔡德银 ||| 职业 ||| 记者', '蔡德容 ||| 职业 ||| 学者、教授', '蔡德福 ||| 职业 ||| 医生'] \n",
      "\n",
      "金刚狼 ||| 故事信息 ||| James Howlett[1] ===== ['金刚狼2 ||| 原著 ||| 金刚狼', '金刚狼 ||| 别名 ||| 金刚狼', '金刚狼 ||| 真名 ||| 詹姆斯·豪利特(James Howlett)', '金刚狼V2.07 ||| 别名 ||| 金刚狼V2.07', '金刚狼 ||| 中文名 ||| 罗根', '金刚狼2 ||| 别名 ||| 金刚狼2', '金刚狼3 ||| 别名 ||| 金刚狼3', '《金刚狼2》 ||| 别名 ||| 《金刚狼2》', '金刚狼(DVD9) ||| 别名 ||| 金刚狼(DVD9)', '金刚狼(DVD) ||| 别名 ||| 金刚狼(DVD)', '金刚狼 ||| 外文名 ||| Logan', '金刚军团金刚GTS250 金刚狼 1G DDR3 ||| 别名 ||| 金刚军团金刚GTS250 金刚狼 1G DDR3', '金刚狼(DVD) ||| ISBN ||| 9787883760528', '金刚狼 ||| 能力 ||| 超强自愈能力、利爪、野兽感知力', '金刚狼 ||| 职业 ||| X战警', '金刚狼(DVD9) ||| ISBN ||| 9787883760535', '翔升金刚GTS250金刚狼1GDDR3 ||| 别名 ||| 翔升金刚GTS250金刚狼1GDDR3', 'X战警前传：金刚狼 ||| 原著 ||| 金钢狼', '金刚军团金刚GTS250 金刚狼 1G DDR3 ||| 中文名 ||| 金刚军团金刚GTS250 金刚狼 1G DDR3', '穿越金刚狼 ||| 别名 ||| 穿越金刚狼'] \n",
      "\n",
      "于是之 ||| 文学作品 ||| 《于是之论表演艺术》 ===== ['于是之 ||| 代表作品 ||| 话剧《茶馆》、《龙须沟》、《骆驼祥子》、《虎符》等', '于之 ||| 代表作品 ||| 《水之恋》', '丁于 ||| 代表作 ||| 《不弃不离》《相亲相爱》', '于晴 ||| 代表作 ||| 挽泪,到处是秘密,是非分不清,花呆,追月,闲云公子,就是皇后', '于毅 ||| 代表作 ||| 《男才女貌》《心术》《斗红颜》《打狗棍》《雪狼湖》', '于谦 ||| 代表作 ||| 《我是黑社会》《学聋哑》《戏叔别兄》《五行诗》《双唱小曲》', '于阔 ||| 代表作 ||| 流行作品《夏日之恋》；民乐作品《瞬》', '于慧 ||| 代表作 ||| 《大屋的丫环们》、《喜莲》等', '于震 ||| 代表作 ||| 中国兄弟连、战后之战、五号特工队、利剑行动', '于代松 ||| 代表作品 ||| 《民营企业规模化的困境》', '于作富 ||| 代表作品 ||| 《经济研究参考资料》', '是安 ||| 代表作品 ||| 《离婚前规则》，《金牌律师》，《国门英雄》', '应是 ||| 代表作品 ||| 《纵钓居文集》8卷、《读孝经》4卷等', '于凡 ||| 代表作品 ||| 《成吉思汗骑马像》，《唐代马球》', '于汉 ||| 代表作品 ||| 《贺喜》，《二胡名曲鉴赏》等', '于彬 ||| 代表作品 ||| 《烽火长城》《给水团》《黑色名单》解放海南岛》《隐形将军》', '于硕 ||| 代表作品 ||| 《青春、别》《提线木偶的秘密》《路过幸福》《混搭的伊甸园》', '于正升 ||| 代表作 ||| 《灌篮高手》（樱木花道） 《猎人（旧版）》（库洛洛·鲁西鲁） 《神剑闯江湖》（AXN/Animax版本）（绯村剑心） 《蜡笔小新》（野原广志） 《闪灵二人组》（天野银次） 《机动战士钢弹SEED》系列（煌·大和） 《数码宝贝02》（一乘寺贤） 《网球王子》（大石秀一郎、菊丸英二、桃城武） 《美食猎人TORIKO》（库克）', '于坚 ||| 代表作品 ||| 长诗《0档案》、《飞行》', '丁于 ||| 代表作品 ||| 《不弃不离》，《相亲相爱》，《不一样的精彩》'] \n",
      "\n",
      "极爱自己 ||| 监制 ||| 张国荣 ===== ['极爱自己 ||| 填词 ||| 林夕', '极爱自己 ||| 编曲 ||| adrian chan', '极爱自己 ||| 谱曲 ||| 张国荣', '爱不自己 ||| 作词者 ||| 陈宏宇', '爱不自己 ||| 作曲者 ||| LEE EUN SEOK', '爱自己做自己 ||| 作者 ||| 张雷锋\\xa0著', '《爱自己做自己》 ||| 作者 ||| 张雷锋 著', '爱自己 ||| 作 者 ||| 拉里什', '《做自己》 ||| 作词者 ||| 鬼脚七', '做自己 ||| 词曲 ||| Katy Perry, Bonnie McKee, Łukasz Gottwald, Max Martin, Henry Walter', '爱你等於爱自己 ||| 作词 ||| 林夕', '自己(何炅歌曲) ||| 作词 ||| 苟庆', '独爱自己 ||| 作者 ||| 琳丿scz', '热爱自己 ||| 作者 ||| Bev Aisbett', '我爱我自己，你爱你自己 ||| 作者 ||| 刘文', '我爱我自己,你爱你自己 ||| 作者 ||| 刘文', '极爱自己 ||| 公 司 ||| 环亚', '极爱自己 ||| rap lyrics ||| 张国荣', '极爱自己 ||| 星座 ||| 天平座', '极爱自己 ||| 民族 ||| 汉'] \n",
      "\n",
      "天海祐希 ||| 互联网电影数据库（IMDb）信息 ||| 《圣诞启示录》 《野球少年》 ===== ['天海祐希 ||| 舞台剧 ||| 《罗密欧与茱丽叶》 《凡尔赛玫瑰─奥斯卡篇─》 《乱世佳人》 《Me And My Girl》 《オケピ!》', '天海祐希 ||| 相关团体 ||| 宝冢歌剧团', '天海祐希 ||| 奖项 ||| 日本电影金像奖新人奖 1997年《圣诞启示录》', '天海祐希 ||| 国籍 ||| 日本', '天海祐希 ||| 职业 ||| 演员', '天海祐希 ||| 昵称 ||| ゆりちゃん', '天海祐希 ||| 籍贯 ||| 富山县', '天海祐希 ||| 出生 ||| 1967年8月8日（47岁） \\xa0日本东京都台东区上野', '天海祐希 ||| 网站 ||| http://www.ken-on.co.jp', '天海祐希 ||| 别名 ||| 天海祐希', '天海祐希 ||| 民族 ||| 大和族', '天海祐希 ||| 性别 ||| 女', '天海祐希 ||| 语言 ||| 日语', '天海祐希 ||| 出道作品 ||| 《撒马尔罕的的红玫瑰》 （暂，サマルカンドの赤いばら）', '天海祐希 ||| 代表作品 ||| 《花扇抄／门的一边／百万个梦》 （暂，花扇抄／扉のこちら／ミリオン・ドリームズ）', '天海祐希 ||| 原文名 ||| 天海 祐希', '天海祐希 ||| 中文名 ||| 天海祐希', '天海祐希 ||| 电视节目 ||| 《离婚女律师》(2004年)  《女王的教室》(2005年) 《首席女主播》(2006年) 《Around 40》(2008年) 《BOSS》(2009年) 《GOLD》(2010年)', '天海祐希 ||| 出生年月 ||| 1967年8月8日', '天海祐希 ||| 出道日期 ||| 1987年进入宝冢歌剧团'] \n",
      "\n",
      "李常顺 ||| 老婆 ||| 李孝利 ===== ['李铭顺 ||| 配偶 ||| 范文芳（2009年结婚）', '李常受 ||| 配偶 ||| 荀荣向 黎宝艺', '彭顺 ||| 配偶 ||| 李心洁', '顺子 ||| 配偶 ||| Jaime[1]', '黄昭顺 ||| 配偶 ||| 陈云龙（离婚） 王崇仪（现任）', '顾顺章 ||| 配偶 ||| 张杏华 张永琴', '杨顺清 ||| 配偶 ||| 何琦瑜', '林义顺 ||| 配偶 ||| 阮碧霞', '顺其衡 ||| 配偶 ||| 无', '游安顺 ||| 配偶 ||| 张倩（1995年结婚；2001年离婚） 陈心妤（2011年结婚）[1]', '方顺吉 ||| 配偶 ||| 刘谨瑜', '鲍喜顺 ||| 配偶 ||| 夏淑娟 （2007.07.12~，身高168）', '李李仁 ||| 配偶 ||| 陶晶莹（2005年结婚）', '李纨 ||| 配偶 ||| 贾珠', '李璇 ||| 配偶 ||| 丁强（1971年结婚）', '李岩 ||| 配 偶 ||| 红娘子', '李咏 ||| 配偶 ||| 哈文', '李罗 ||| 配偶 ||| 熊家婕', '李鹏 ||| 配偶 ||| 朱琳', '李㼈 ||| 配偶 ||| 熊家婕（2003年结婚）'] \n",
      "\n",
      "帕罗 ||| 创立时间 ||| 2002年 ===== ['罗帕 ||| 罗帕 Rehaupal ||| 法国', '帕罗 ||| 年产值 ||| 6亿元', '帕罗 ||| 总部 ||| 湖州', '帕罗拉 ||| 帕罗拉 Parola ||| 34,800', '帕罗 ||| 出生年月 ||| 1983年3月17日', '帕罗 ||| 职业 ||| 运动员', '帕帕多普罗斯 ||| 出生年月 ||| 1976年9月6日', '帕罗 ||| 国籍 ||| 意大利', '卡斯帕·卡帕罗尼 ||| 卡斯帕·卡帕罗尼 ||| 卡斯帕·卡帕罗尼在罗马', '斯帕罗 ||| 出生年月 ||| 1983年10月3日', '帕罗洛 ||| 出生年月 ||| 1985年1月25日', '亚历山德罗·帕帕罗尼 ||| 国籍 ||| 意大利', '帕罗 ||| 员工数 ||| 2000人', '帕帕多普罗斯 ||| 职业 ||| 运动员 足球', '帕特罗豪 ||| 帕特罗豪 Pátroha ||| 匈牙利', '罗帕 ||| 区 ||| 圣迪耶德沃斯热区 (Saint-Dié-des-Vosges)', '罗帕 ||| 县 ||| 科尔西厄县 (Corcieux)', '罗帕 ||| 省 ||| 孚日省', '帕帕多保罗斯 ||| 国籍 ||| 希腊', '帕帕罗蒂 ||| 别名 ||| 帕帕罗蒂'] \n",
      "\n",
      "安少康 ||| 从事专业 ||| 法国语言、文化 ===== ['安少康 ||| 职业 ||| 外交部驻法国巴黎一等外交秘书', '少康 ||| 职业 ||| 政治 政治家', '赵少康 ||| 职业 ||| 台湾飞碟广播股份有限公司董事长', '白少康 ||| 职 业 ||| 政治 警察', '杨少康 ||| 职业 ||| 八腊乡财政所负责人', '姒少康 ||| 职业 ||| 君主', '白少康 ||| 职业 ||| 政治 警察', '黄少康 ||| 职业 ||| 教授，博士后', '高少康 ||| 职业 ||| 美术指导', '徐少康 ||| 职业 ||| 自由撰稿人和作家', '释少康 ||| 职业 ||| 高僧', '冯少康 ||| 职业 ||| 艺人', '郑少康 ||| 职业 ||| 中国对外贸易（集团）开发公司总经理', '胡少安 ||| 职业 ||| 京剧演员', '郭少安 ||| 职业 ||| 艺术 京剧鼓师', '黄少安 ||| 职业 ||| 学者 教授', '孙少安 ||| 职业 ||| 个体户', '安少宇 ||| 职业 ||| 歌手', '林少安 ||| 职业 ||| 教师', '安少红 ||| 职业 ||| 企业家'] \n",
      "\n",
      "金豆 ||| 真实姓名 ||| 王金建 ===== ['金钱豆腐 ||| 原材料 ||| 豆腐，土豆，鸡蛋', '金钩豆腐汤 ||| 原料 ||| 菠菜150克，嫩豆腐200克等', '金华豆捞店 ||| 原料 ||| 清淡汤料、海鲜', '金银豆腐包 ||| 原料 ||| 豆腐皮、虾仁、老豆腐 等', '金豆豆 ||| 别名 ||| 金豆豆', '雪菜焖金豆 ||| 原料1 ||| 黄豆、雪菜、干辣椒、', '雪菜焖金豆 ||| 原料2 ||| 葱、大蒜、鸡精块、老抽', '金针百合豆干 ||| 原料 ||| 金针菇50克；豆腐干100克；', '金枪鱼豆腐汤 ||| 原料 ||| 内酯豆腐\\xa0一块番茄', '金银豆腐 ||| 主要原料 ||| 豆腐', '金针菇拌豆皮 ||| 原 料 ||| 豆腐皮、金针菇', '雪菜焖金豆 ||| 原料3 ||| 糖、水、香油、熟芝麻', '金豆豆 ||| 中文名 ||| 金豆豆', '金沙土豆泥 ||| 主要原料 ||| 土豆', '金钩四季豆 ||| 主要原料 ||| 虾米，四季豆', '龙王金豆浆 ||| 主要原料 ||| 东北有机大豆，低聚异麦芽糖', '山城牌金钩豆瓣 ||| 原料 ||| 优质蚕豆、金钩、香料、芝麻', '博山金豆腐 ||| 主要原料 ||| 豆腐750克，鸡肉50克', '土豆金枪鱼面包 ||| 原料 ||| 高粉30g、开水30g、糖3g', '金钩豆腐粥 ||| 主要原料 ||| 大米150克，黄豆芽20克，豆腐1块'] \n",
      "\n",
      "动静乐团 ||| 贝斯手 ||| 红雨 ===== ['动静乐团 ||| 吉他手 ||| 小威', '神策乐队 ||| 低音吉他 ||| 石补天', '锐乐团 ||| 主音吉他 ||| 冯冲', '动静乐团 ||| 音乐专辑 ||| 《相信未来》', 'Colours动漫乐团 ||| 吉他 ||| 红燃', 'amplified ||| 主音低音吉他 ||| Terrence Ma', 'KOLOR ||| 低音吉他手 ||| 高耀丰', 'faders ||| 低 音/吉他手 ||| Toy', 'Dior乐团 ||| 吉他 ||| 马俊梅 （上海）', 'Supper Moment ||| 低音吉他手 ||| CK', '荔枝王 ||| 低音吉他 ||| Joe', 'My American Heart ||| 低音吉他 ||| Jesse Barrera', '动静乐团 ||| 团长 ||| 阿滚', '动静(动静乐团) ||| 别名 ||| 动静', '动静(动静乐团) ||| 主唱 ||| 小无', '天乐乐团 ||| 吉他手 ||| 阿文', '愚乐团乐队 ||| 吉 他 ||| 蔡忤峰', '动静(动静乐团) ||| 外文名 ||| DongIn', '动静(动静乐团) ||| 中文名 ||| 动静', '玩乐团 ||| 吉他手 ||| 小毛'] \n",
      "\n",
      "欧冶子 ||| 女儿 ||| 莫邪 ===== ['欧冶子 ||| 女 儿 ||| 莫邪', '欧冶子 ||| 特长 ||| 冶金术', '欧冶子 ||| 国 籍 ||| 越国', '欧冶子 ||| 本名 ||| 欧冶子', '欧冶子 ||| 职 业 ||| 铸剑大师', '欧冶子 ||| 国籍 ||| 越国', '欧冶子 ||| 职业 ||| 铸剑大师', '欧冶子 ||| 特 长 ||| 冶金术', '欧冶子 ||| 别名 ||| 欧冶子', '九云冶 ||| 儿女 ||| 梅郎(子)、九千宵(女)', '欧冶子 ||| 中文名 ||| 欧冶子', '王冶坪 ||| 子女 ||| 江绵恒、江绵康', '欧冶子 ||| 所铸宝剑 ||| 湛卢、七星龙渊、工布', '欧文·柏林 ||| 儿女 ||| Mary Ellin Berlin（1926年） Irving Berlin, Jr.（1928年） Linda Louise Berlin（1932年） Elizabeth Iris Berlin（1936年）', '艾利欧特 ||| 女儿 ||| 藤和艾莉欧', '欧阳莎菲 ||| 儿女 ||| 屠燕英（长女）', '欧冶 ||| 别名 ||| 欧冶', '欧冶 ||| 释义 ||| 即 欧冶子；借指铸剑工', '欧冶 ||| 注音 ||| ㄡ ㄧㄜˇ', '欧冶 ||| 读音 ||| ōu yě'] \n",
      "\n",
      "姜胜允 ||| 毕业院校 ||| 釜山艺术高中 音乐系 ===== ['姜胜允 ||| 姓名 ||| 姜胜允', '姜胜允 ||| 所属组合 ||| winner', '姜胜允 ||| 职 业 ||| 歌手，演员', '姜胜允 ||| 职业 ||| 演员', '姜胜允 ||| 出生 ||| 1994年1月21日（21岁） \\xa0韩国釜山广域市', '姜胜允 ||| 别名 ||| 姜胜允', '姜胜允 ||| 别 名 ||| 姜承润', '姜胜允 ||| 血型 ||| B型', '姜胜允 ||| 身高 ||| 178cm', '姜胜允 ||| 语言 ||| 韩语', '姜胜允 ||| 体重 ||| 59kg', '姜胜允 ||| 民 族 ||| 朝鲜族', '姜胜允 ||| 国 籍 ||| 韩国', '姜胜允 ||| 星 座 ||| 水瓶座', '姜胜允 ||| 宗 教 ||| 天主教', '姜胜允 ||| 国籍 ||| 韩国', '姜胜允 ||| 民族 ||| 朝鲜族', '姜胜允 ||| 星座 ||| 水瓶座', '姜胜允 ||| 成员 ||| 金振宇、李胜勋、宋闵浩、南太铉', '姜胜允 ||| 血 型 ||| B型'] \n",
      "\n",
      "李珠贤 ||| 擅长运动 ||| 拳击、跆拳道、合气道、柔道 ===== ['李贤珠 ||| 体重 ||| 50kg', '李珠贤 ||| 体重 ||| 73kg', '李珠贤 ||| 主要奖项 ||| 最受观众欢迎奖', '体育项目 ||| 目的 ||| 为了强身祛病', '星体体育 ||| 项目 ||| 赛事活动咨询与服务等', '体育项目 ||| 项目介绍 ||| 技巧运动---田径', '乐视体育 ||| 体育项目 ||| 足球、篮球、高尔夫、网球', '古巴体育 ||| 体育项目 ||| 棒球、田径、拳击等', 'footbag ||| 体育项目 ||| Footbag', 'cba ||| 体育项目 ||| 篮球', '李婉贤 ||| 运动项目 ||| 皮划艇', '李贤林 ||| 运动项目 ||| 散手', '李贤虎 ||| 运动项目 ||| 足球', '李硕贤 ||| 运动项目 ||| 足球', '李浩贤 ||| 运动项目 ||| 壁球', '李珠珩 ||| 运动项目 ||| 仰泳', '李孝珠 ||| 运动项目 ||| 蓝球', '李珠美 ||| 运动项目 ||| 赛跑', '李珍珠 ||| 运动项目 ||| 田径', '李英珠 ||| 运动项目 ||| 足球'] \n",
      "\n",
      "许嘉凌 ||| 教育程度 ||| 美国加州南加州大学心理学学士、财务学学士 ===== ['许嘉凌 ||| 国籍 ||| 美国', '许嘉凌 ||| 血型 ||| A型', '许嘉凌 ||| 身高 ||| 162CM', '许嘉凌 ||| 出生 ||| 1983年5月9日（31岁） \\xa0美国德州', '许嘉凌 ||| 体重 ||| 47KG', '许嘉凌 ||| 籍贯 ||| 台湾台北', '许嘉凌 ||| 语言 ||| 英语及现代标准汉语、国语', '许嘉凌 ||| 三围 ||| 32D 24 34', '许嘉凌 ||| 爱好 ||| 编织、阅读、AerialArts、跳舞、唱歌、学乐器', '许嘉凌 ||| 职业 ||| 歌手、演员', '许嘉凌 ||| 嗜好 ||| 编织、阅读、Aerial Arts、跳舞、唱歌、学乐器、学习烹饪法，写作/写诗、饲养小动物、逛书店、喝咖啡、看电影、到处走路、发呆', '许嘉凌 ||| 配偶 ||| 陈海毅（2012年结婚）', '许嘉凌 ||| 电影 ||| 混混天团', '许嘉凌 ||| 别名 ||| 许嘉凌', '许嘉凌 ||| 星座 ||| 金牛座', '许嘉凌 ||| 性别 ||| 女', '许嘉凌 ||| 专长 ||| 唱歌，跳舞，玩乐器（小提琴与吉他）', '许嘉凌 ||| 儿女 ||| 儿子：小恐龙（1岁）', '许嘉凌 ||| 代表作品 ||| 《爱的故事-罗密欧与茱丽叶》', '许凌 ||| 主要成就 ||| 发起并成立新疆石油硬笔书法协会'] \n",
      "\n",
      "祖尔金 ||| 出场作品 ||| 魔兽争霸2：黑潮魔兽世界 ===== [\"祖尔金 ||| 外文名 ||| Zul'Jin\", '祖尔金 ||| 中文名 ||| 祖尔', '祖尔金 ||| 职业 ||| 狂暴猎头者', '谢尔盖·金祖克 ||| 外文名 ||| Serhiy Dzinziruk', '祖尔金 ||| 别名 ||| 祖尔金', \"祖金 ||| 外文名 ||| Zul'Jin\", '谢尔盖·金祖克 ||| 中文名 ||| 谢尔盖·金祖克', '金祖儿 ||| 外文名 ||| Maggie', '金祖淳 ||| 外文名 ||| 김조순', '金祖余 ||| 外文名 ||| Jin Zuyu', '金祖禄 ||| 外文名 ||| Kim Sang-Rok 김상록', '祖金 ||| 中文名 ||| 祖金', '祖里尔 ||| 外文名 ||| Ayelet July Zurer', '米祖尔 ||| 外文名 ||| Miguel Angel Sanchez Munoz, Michel', '祖迪尔 ||| 外文名 ||| ゾルディオ Zorudeio', '曼祖尔 ||| 外文名 ||| Mandhur', '祖海尔 ||| 外文名 ||| Zuhair', '祖尔金 ||| 种族 ||| 森林巨魔', '祖尔金 ||| 等级 ||| 73', '祖尔金 ||| 魔法 ||| 67740 分为5个阶段'] \n",
      "\n",
      "潘粤明 ||| 喜欢的演员 ||| 周润发、 罗伯特·德·尼罗 ===== ['潘粤明 ||| 职业 ||| 演员', '潘粤明 ||| 毕业院校 ||| 北京师范大学', '潘粤明 ||| 生肖 ||| 虎', '潘粤明 ||| 出生地 ||| 北京', '潘粤明 ||| 学历 ||| 本科', '潘粤明 ||| 身高 ||| 178CM', '潘粤明 ||| 体重 ||| 65kg', '潘粤明 ||| 血型 ||| B型', '潘粤明 ||| 祖籍 ||| 广东省韶关市新丰县', '潘粤明 ||| 籍贯 ||| 广东省新丰县', '潘粤明 ||| 特性 ||| 自然、活泼', '潘粤明 ||| 别名 ||| 潘粤明', '潘粤明 ||| 国籍 ||| 中国', '潘粤明 ||| 前妻 ||| 董洁', '潘粤明 ||| 特长 ||| 绘画、写作、游泳、听音乐、吉他', '潘粤明 ||| 姓名 ||| 潘粤明', '潘粤明 ||| 民族 ||| 汉族', '潘粤明 ||| 星座 ||| 金牛座', '潘粤明 ||| 专长 ||| 绘画、写作、游泳、吉他', '潘粤明 ||| 性别 ||| 男'] \n",
      "\n"
     ]
    }
   ],
   "source": [
    "sums,count,final=0,0,0\n",
    "for unit in train:\n",
    "    for tb in train[unit][\"table_answer\"]:\n",
    "        sums+=1\n",
    "        if tb in train[unit][\"es_top20\"]:\n",
    "            count+=1\n",
    "        else:\n",
    "            print(tb,\"=====\",train[unit][\"es_top20\"],\"\\n\")\n",
    "            break\n",
    "    if set(train[unit][\"table_answer\"]).issubset(set(train[unit][\"es_top20\"])):\n",
    "        final+=1"
   ]
  },
  {
   "cell_type": "code",
   "execution_count": 90,
   "id": "bccc676a",
   "metadata": {},
   "outputs": [
    {
     "data": {
      "text/plain": [
       "(314, 350, 128)"
      ]
     },
     "execution_count": 90,
     "metadata": {},
     "output_type": "execute_result"
    }
   ],
   "source": [
    "count,sums,final"
   ]
  },
  {
   "cell_type": "code",
   "execution_count": 91,
   "id": "1624f42b",
   "metadata": {
    "scrolled": true
   },
   "outputs": [
    {
     "data": {
      "text/plain": [
       "0.8971428571428571"
      ]
     },
     "execution_count": 91,
     "metadata": {},
     "output_type": "execute_result"
    }
   ],
   "source": [
    "count/sums"
   ]
  },
  {
   "cell_type": "code",
   "execution_count": 72,
   "id": "be37695c",
   "metadata": {},
   "outputs": [
    {
     "data": {
      "text/plain": [
       "['阮福澜 ||| 墓葬 ||| 长延陵']"
      ]
     },
     "execution_count": 72,
     "metadata": {},
     "output_type": "execute_result"
    }
   ],
   "source": [
    "train[unit][\"table_answer\"]"
   ]
  },
  {
   "cell_type": "code",
   "execution_count": 73,
   "id": "1ec7c4b4",
   "metadata": {},
   "outputs": [
    {
     "data": {
      "text/plain": [
       "['阮福澜 ||| 墓葬 ||| 长延陵',\n",
       " '阮福澜 ||| 子 ||| 阮福濒',\n",
       " '阮福澜 ||| 尊号 ||| 上主',\n",
       " '阮福澜 ||| 庙号 ||| 神祖→神宗',\n",
       " '阮福澜 ||| 谥号 ||| 威断神武仁昭王→ 承基缵统刚明雄毅威断英武孝昭王→ 承基缵统刚明雄毅威断英武孝昭皇帝',\n",
       " '阮福澜 ||| 别名 ||| 阮福澜',\n",
       " '阮福澜 ||| 时代 ||| 南北朝时代',\n",
       " '阮福澜 ||| 正室 ||| 段氏',\n",
       " '阮福澜 ||| 封号 ||| 仁郡公',\n",
       " '阮福澜 ||| 出生 ||| 1601年',\n",
       " '阮福澜 ||| 逝世 ||| 1648年',\n",
       " '阮福澜 ||| 嫡母 ||| 阮氏',\n",
       " '阮福澜 ||| 亲属 ||| 阮福源',\n",
       " '阮福濒 ||| 前任：阮福澜 继任：阮福溱 ||| 前任：阮福澜 继任：阮福溱',\n",
       " '阮福澜 ||| 前任：阮福源 继任：阮福濒 ||| 前任：阮福源 继任：阮福濒',\n",
       " '阮福源 ||| 前任：阮潢 继任：阮福澜 ||| 前任：阮潢 继任：阮福澜',\n",
       " '阮福映 ||| 陵墓 ||| 天授陵',\n",
       " '阮福晈 ||| 陵墓 ||| 孝陵',\n",
       " '阮福溱 ||| 墓葬 ||| 长茂陵',\n",
       " '阮福源 ||| 墓葬 ||| 长衍陵']"
      ]
     },
     "execution_count": 73,
     "metadata": {},
     "output_type": "execute_result"
    }
   ],
   "source": [
    "train[unit][\"es_top20\"]"
   ]
  },
  {
   "cell_type": "code",
   "execution_count": 75,
   "id": "5208a42c",
   "metadata": {},
   "outputs": [
    {
     "data": {
      "text/plain": [
       "True"
      ]
     },
     "execution_count": 75,
     "metadata": {},
     "output_type": "execute_result"
    }
   ],
   "source": [
    "set(train[unit][\"table_answer\"]).issubset(set(train[unit][\"es_top20\"]))"
   ]
  },
  {
   "cell_type": "code",
   "execution_count": null,
   "id": "5f8b3939",
   "metadata": {},
   "outputs": [],
   "source": []
  }
 ],
 "metadata": {
  "kernelspec": {
   "display_name": "Python 3 (ipykernel)",
   "language": "python",
   "name": "python3"
  },
  "language_info": {
   "codemirror_mode": {
    "name": "ipython",
    "version": 3
   },
   "file_extension": ".py",
   "mimetype": "text/x-python",
   "name": "python",
   "nbconvert_exporter": "python",
   "pygments_lexer": "ipython3",
   "version": "3.8.10"
  }
 },
 "nbformat": 4,
 "nbformat_minor": 5
}
