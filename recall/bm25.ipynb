{
 "cells": [
  {
   "cell_type": "code",
   "execution_count": 27,
   "id": "d342f4b7-4237-447c-8ddb-7e8cfa7edd0e",
   "metadata": {
    "collapsed": true,
    "jupyter": {
     "outputs_hidden": true
    }
   },
   "outputs": [
    {
     "name": "stderr",
     "output_type": "stream",
     "text": [
      "  0%|                                                                                            | 0/9 [00:00<?, ?it/s]\n",
      "  0%|                                                                                      | 0/5000000 [00:00<?, ?it/s]\u001b[A\n",
      "  0%|                                                                         | 12/5000000 [00:00<12:30:14, 111.08it/s]\u001b[A\n",
      "  0%|                                                                         | 1351/5000000 [00:00<10:54, 7635.04it/s]\u001b[A\n",
      "  0%|                                                                        | 3009/5000000 [00:00<07:11, 11578.71it/s]\u001b[A\n",
      "  0%|                                                                        | 4629/5000000 [00:00<06:14, 13327.53it/s]\u001b[A\n",
      "  0%|                                                                        | 6169/5000000 [00:00<07:52, 10570.88it/s]\u001b[A\n",
      "  0%|                                                                        | 7712/5000000 [00:00<07:05, 11742.06it/s]\u001b[A\n",
      "  0%|▏                                                                       | 9678/5000000 [00:00<06:13, 13378.84it/s]\u001b[A\n",
      "  0%|▏                                                                      | 11169/5000000 [00:00<06:03, 13723.56it/s]\u001b[A\n",
      "  0%|▏                                                                      | 12847/5000000 [00:01<05:42, 14567.50it/s]\u001b[A\n",
      "  0%|▏                                                                      | 14790/5000000 [00:01<05:25, 15303.24it/s]\u001b[A\n",
      "  0%|▏                                                                      | 16503/5000000 [00:01<05:15, 15815.08it/s]\u001b[A\n",
      "  0%|▎                                                                      | 18159/5000000 [00:01<05:10, 16024.10it/s]\u001b[A\n",
      "  0%|▎                                                                      | 20167/5000000 [00:01<05:02, 16461.50it/s]\u001b[A\n",
      "  0%|▎                                                                      | 21969/5000000 [00:01<04:55, 16851.78it/s]\u001b[A\n",
      "  0%|▎                                                                      | 23930/5000000 [00:01<04:54, 16903.12it/s]\u001b[A\n",
      "  1%|▎                                                                      | 25631/5000000 [00:01<04:55, 16821.65it/s]\u001b[A\n",
      "  1%|▍                                                                      | 27317/5000000 [00:01<04:57, 16698.91it/s]\u001b[A\n",
      "  1%|▍                                                                      | 29047/5000000 [00:01<04:55, 16828.17it/s]\u001b[A\n",
      "  1%|▍                                                                      | 30732/5000000 [00:02<04:56, 16767.21it/s]\u001b[A\n",
      "  1%|▍                                                                      | 32446/5000000 [00:02<04:54, 16865.37it/s]\u001b[A\n",
      "  1%|▍                                                                      | 34205/5000000 [00:02<04:59, 16599.09it/s]\u001b[A\n",
      "  1%|▌                                                                      | 35907/5000000 [00:02<04:57, 16699.69it/s]\u001b[A\n",
      "  1%|▌                                                                      | 37579/5000000 [00:02<05:12, 15889.56it/s]\u001b[A\n",
      "  1%|▌                                                                      | 39176/5000000 [00:02<05:11, 15908.76it/s]\u001b[A\n",
      "  1%|▌                                                                      | 41091/5000000 [00:02<05:07, 16123.95it/s]\u001b[A\n",
      "  1%|▌                                                                      | 43027/5000000 [00:02<05:02, 16378.70it/s]\u001b[A\n",
      "  1%|▋                                                                      | 44740/5000000 [00:02<05:01, 16441.68it/s]\u001b[A\n",
      "  1%|▋                                                                      | 47359/5000000 [00:03<05:25, 15230.22it/s]\u001b[A\n",
      "  0%|                                                                                            | 0/9 [00:05<?, ?it/s]\n"
     ]
    },
    {
     "ename": "KeyboardInterrupt",
     "evalue": "",
     "output_type": "error",
     "traceback": [
      "\u001b[1;31m---------------------------------------------------------------------------\u001b[0m",
      "\u001b[1;31mKeyboardInterrupt\u001b[0m                         Traceback (most recent call last)",
      "Cell \u001b[1;32mIn[27], line 9\u001b[0m\n\u001b[0;32m      7\u001b[0m tt\u001b[38;5;241m=\u001b[39munit\u001b[38;5;241m.\u001b[39msplit(\u001b[38;5;124m\"\u001b[39m\u001b[38;5;130;01m\\t\u001b[39;00m\u001b[38;5;124m\"\u001b[39m)\n\u001b[0;32m      8\u001b[0m index\u001b[38;5;241m=\u001b[39mtt[\u001b[38;5;241m0\u001b[39m]\n\u001b[1;32m----> 9\u001b[0m text\u001b[38;5;241m=\u001b[39m\u001b[43mjieba\u001b[49m\u001b[38;5;241;43m.\u001b[39;49m\u001b[43mlcut\u001b[49m\u001b[43m(\u001b[49m\u001b[43mtt\u001b[49m\u001b[43m[\u001b[49m\u001b[38;5;241;43m1\u001b[39;49m\u001b[43m]\u001b[49m\u001b[38;5;241;43m.\u001b[39;49m\u001b[43mreplace\u001b[49m\u001b[43m(\u001b[49m\u001b[38;5;124;43m\"\u001b[39;49m\u001b[38;5;124;43m \u001b[39;49m\u001b[38;5;124;43m\"\u001b[39;49m\u001b[43m,\u001b[49m\u001b[38;5;124;43m\"\u001b[39;49m\u001b[38;5;124;43m\"\u001b[39;49m\u001b[43m)\u001b[49m\u001b[38;5;241;43m.\u001b[39;49m\u001b[43mreplace\u001b[49m\u001b[43m(\u001b[49m\u001b[38;5;124;43m\"\u001b[39;49m\u001b[38;5;124;43m|||\u001b[39;49m\u001b[38;5;124;43m\"\u001b[39;49m\u001b[43m,\u001b[49m\u001b[38;5;124;43m\"\u001b[39;49m\u001b[38;5;124;43m,\u001b[39;49m\u001b[38;5;124;43m\"\u001b[39;49m\u001b[43m)\u001b[49m\u001b[43m)\u001b[49m\n\u001b[0;32m     10\u001b[0m \u001b[38;5;28;01mwhile\u001b[39;00m \u001b[38;5;124m\"\u001b[39m\u001b[38;5;124m,\u001b[39m\u001b[38;5;124m\"\u001b[39m \u001b[38;5;129;01min\u001b[39;00m text:\n\u001b[0;32m     11\u001b[0m     text\u001b[38;5;241m.\u001b[39mremove(\u001b[38;5;124m\"\u001b[39m\u001b[38;5;124m,\u001b[39m\u001b[38;5;124m\"\u001b[39m)\n",
      "File \u001b[1;32md:\\python38\\lib\\site-packages\\jieba\\__init__.py:357\u001b[0m, in \u001b[0;36mTokenizer.lcut\u001b[1;34m(self, *args, **kwargs)\u001b[0m\n\u001b[0;32m    356\u001b[0m \u001b[38;5;28;01mdef\u001b[39;00m \u001b[38;5;21mlcut\u001b[39m(\u001b[38;5;28mself\u001b[39m, \u001b[38;5;241m*\u001b[39margs, \u001b[38;5;241m*\u001b[39m\u001b[38;5;241m*\u001b[39mkwargs):\n\u001b[1;32m--> 357\u001b[0m     \u001b[38;5;28;01mreturn\u001b[39;00m \u001b[38;5;28;43mlist\u001b[39;49m\u001b[43m(\u001b[49m\u001b[38;5;28;43mself\u001b[39;49m\u001b[38;5;241;43m.\u001b[39;49m\u001b[43mcut\u001b[49m\u001b[43m(\u001b[49m\u001b[38;5;241;43m*\u001b[39;49m\u001b[43margs\u001b[49m\u001b[43m,\u001b[49m\u001b[43m \u001b[49m\u001b[38;5;241;43m*\u001b[39;49m\u001b[38;5;241;43m*\u001b[39;49m\u001b[43mkwargs\u001b[49m\u001b[43m)\u001b[49m\u001b[43m)\u001b[49m\n",
      "File \u001b[1;32md:\\python38\\lib\\site-packages\\jieba\\__init__.py:324\u001b[0m, in \u001b[0;36mTokenizer.cut\u001b[1;34m(self, sentence, cut_all, HMM, use_paddle)\u001b[0m\n\u001b[0;32m    322\u001b[0m \u001b[38;5;28;01mif\u001b[39;00m \u001b[38;5;129;01mnot\u001b[39;00m blk:\n\u001b[0;32m    323\u001b[0m     \u001b[38;5;28;01mcontinue\u001b[39;00m\n\u001b[1;32m--> 324\u001b[0m \u001b[38;5;28;01mif\u001b[39;00m re_han\u001b[38;5;241m.\u001b[39mmatch(blk):\n\u001b[0;32m    325\u001b[0m     \u001b[38;5;28;01mfor\u001b[39;00m word \u001b[38;5;129;01min\u001b[39;00m cut_block(blk):\n\u001b[0;32m    326\u001b[0m         \u001b[38;5;28;01myield\u001b[39;00m word\n",
      "\u001b[1;31mKeyboardInterrupt\u001b[0m: "
     ]
    }
   ],
   "source": [
    "from tqdm import tqdm\n",
    "bm25_corpus,corpus_dict=[],{}\n",
    "for i in tqdm(range(9)):\n",
    "    result = open(f\"../data/kbqa{i}.txt\",\"r\",encoding=\"utf8\").readlines()\n",
    "    result=[k.strip() for k in result]\n",
    "    for unit in tqdm_notebook(result):\n",
    "        tt=unit.split(\"\\t\")\n",
    "        index=tt[0]\n",
    "        text=jieba.lcut(tt[1].replace(\" \",\"\").replace(\"|||\",\",\"))\n",
    "        while \",\" in text:\n",
    "            text.remove(\",\")\n",
    "        bm25_corpus.append(text)\n",
    "        corpus_dict[index]=tt[1]"
   ]
  },
  {
   "cell_type": "code",
   "execution_count": 28,
   "id": "99c8da65-a9d5-4116-a1f9-d0cfb42a5f93",
   "metadata": {},
   "outputs": [
    {
     "data": {
      "text/plain": [
       "'作业管理 ||| 简介 ||| 以作业作为业管理的起点和核心'"
      ]
     },
     "execution_count": 28,
     "metadata": {},
     "output_type": "execute_result"
    }
   ],
   "source": [
    "tt[1]"
   ]
  },
  {
   "cell_type": "code",
   "execution_count": 30,
   "id": "181839d4-c7c3-4317-b92e-085dee08233d",
   "metadata": {},
   "outputs": [
    {
     "data": {
      "text/plain": [
       "'高士廉出生地,高士廉出生时间,高士廉去世时间,高士廉主要作品,高士廉官职'"
      ]
     },
     "execution_count": 30,
     "metadata": {},
     "output_type": "execute_result"
    }
   ],
   "source": [
    "tt=\"高士廉 ||| 出生地 ||| 渤海蓨县;高士廉 ||| 出生时间 ||| 575年;高士廉 ||| 去世时间 ||| 647年2月14日;高士廉 ||| 主要作品 ||| 《氏族志》;高士廉 ||| 官职 ||| 尚书右仆射、太子太傅\"\n",
    "\",\".join([\"\".join([k.strip() for k in u.split(\"|||\")[:2]]) for u in tt.split(\";\")])"
   ]
  },
  {
   "cell_type": "code",
   "execution_count": null,
   "id": "2f3a7bf0-8840-4335-a682-7323b9488371",
   "metadata": {},
   "outputs": [],
   "source": []
  }
 ],
 "metadata": {
  "kernelspec": {
   "display_name": "Python 3 (ipykernel)",
   "language": "python",
   "name": "python3"
  },
  "language_info": {
   "codemirror_mode": {
    "name": "ipython",
    "version": 3
   },
   "file_extension": ".py",
   "mimetype": "text/x-python",
   "name": "python",
   "nbconvert_exporter": "python",
   "pygments_lexer": "ipython3",
   "version": "3.8.4"
  }
 },
 "nbformat": 4,
 "nbformat_minor": 5
}
